{
 "cells": [
  {
   "cell_type": "code",
   "execution_count": 1,
   "metadata": {},
   "outputs": [],
   "source": [
    "#import usual libraries\n",
    "import numpy as np\n",
    "import matplotlib as mpl\n",
    "import matplotlib.pyplot as plt\n",
    "from scipy import sparse\n",
    "from numpy import linalg as LA\n",
    "from scipy import linalg as sLA\n",
    "from IPython.display import display, Latex\n",
    "from decimal import *\n",
    "import pandas as pd\n",
    "\n",
    "\n",
    "from IPython.core.interactiveshell import InteractiveShell\n",
    "\n",
    "InteractiveShell.ast_node_interactivity = \"all\"\n",
    "getcontext().prec = 30"
   ]
  },
  {
   "cell_type": "markdown",
   "metadata": {},
   "source": [
    "$$\n",
    "I=\\left(\\begin{array}{ll}\n",
    "1 & 0 \\\\\n",
    "0 & 1\n",
    "\\end{array}\\right) \\quad \\sigma_{x}=\\left(\\begin{array}{cc}\n",
    "0 & 1 \\\\\n",
    "1 & 0\n",
    "\\end{array}\\right) \\quad \\sigma_{y}=\\left(\\begin{array}{cc}\n",
    "0 & -i \\\\\n",
    "i &  0\n",
    "\\end{array}\\right) \\quad \\sigma_{z}=\\left(\\begin{array}{cc}\n",
    "1 &  0 \\\\\n",
    "0 &  -1\n",
    "\\end{array}\\right)\n",
    "$$"
   ]
  },
  {
   "cell_type": "markdown",
   "metadata": {},
   "source": [
    "$\\sigma_x$ at site $i$ is denoted by $\\sigma_x^i$ or, $\\sigma_x(i)$\n",
    "\n",
    "For example, $\\sigma_x(1)$ at a 4 site model would be  $ \\sigma_x(1) =I \\bigotimes \\sigma_x\\bigotimes I \\bigotimes I$ "
   ]
  },
  {
   "cell_type": "code",
   "execution_count": 2,
   "metadata": {},
   "outputs": [],
   "source": [
    "# create Pauli to test commutations\n",
    "def X():\n",
    "    return np.array([[0,1],[1,0]])\n",
    "def Y(): \n",
    "    return np.array([[0,-1.j],[1.j,0]])\n",
    "def Z():\n",
    "    return np.array([[1,0],[0,-1]])\n",
    "def splus():\n",
    "    return 0.5*( X()+1.0j*Y() )\n",
    "def sminus():\n",
    "    return 0.5*( X()-1.0j*Y() )"
   ]
  },
  {
   "cell_type": "markdown",
   "metadata": {},
   "source": [
    "# Pauli properties\n",
    "Involutory propety\n",
    "$$ \\sigma_{1}^{2}=\\sigma_{2}^{2}=\\sigma_{3}^{2}=-i \\sigma_{1} \\sigma_{2} \\sigma_{3}=\\left(\\begin{array}{ll}\n",
    "1 & 0 \\\\\n",
    "0 & 1\n",
    "\\end{array}\\right)=I $$\n",
    "\n",
    "determinant and trace property\n",
    "\\begin{aligned}\n",
    "\\operatorname{det} \\sigma_{j} &=-1 \\\\\n",
    "\\operatorname{tr} \\sigma_{j} &=0\n",
    "\\end{aligned}\n",
    "Commutation relations:\n",
    "$$\n",
    "\\left[\\sigma_{j}, \\sigma_{k}\\right]=2 i \\varepsilon_{j k \\ell} \\sigma_{\\ell},\n",
    "$$\n",
    "and anticommutation relations:\n",
    "$$\n",
    "\\left\\{\\sigma_{j}, \\sigma_{k}\\right\\}=2 \\delta_{j k} I .\n",
    "$$"
   ]
  },
  {
   "cell_type": "code",
   "execution_count": 3,
   "metadata": {},
   "outputs": [],
   "source": [
    "# Test Pauli propeties\n",
    "assert np.allclose(X()@X(),np.eye(2)), \"Pauli involuntary prop not holding\"\n",
    "assert (np.linalg.det(X())==-1 and np.linalg.det(Y())==-1 and np.linalg.det(Z())==-1), \"determinant prop not holding\"\n",
    "assert (np.trace(X())==0 and np.trace(Y())==0 and np.trace(Z())==0), \"trace prop not holding\"\n",
    "\n",
    "assert (np.allclose(X()@Y()-Y()@X(),2.0j*Z() ) and np.allclose(Y()@Z()-Z()@Y(),2.0j*X() ) \\\n",
    "        and np.allclose(Z()@X()-X()@ Z(),2.0j*Y() )   ), \"commutation relation not holding\"\n",
    "\n",
    "\n",
    "assert (np.allclose(X()@Y()+Y()@X(),np.zeros((2,2)) ) and np.allclose(Y()@Z()+Z()@Y(),np.zeros((2,2)) ) \\\n",
    "        and np.allclose(Z()@X()+X()@ Z(),np.zeros((2,2)) )   ), \"anti-commutation relation not holding\"\n",
    "assert (np.allclose(X()@X()+X()@X(),2*np.eye(2) ) and np.allclose(Y()@ Y()+Y()@Y(),2*np.eye(2) ) \\\n",
    "        and np.allclose(Z()@ Z()+Z()@ Z(),2*np.eye(2) )   ), \"anti-commutation relation not holding\""
   ]
  },
  {
   "cell_type": "markdown",
   "metadata": {},
   "source": [
    "# Test $\\sigma_+$, $\\sigma_-$ properties\n",
    "\n",
    "$$ [\\sigma_-, \\sigma_x] = - \\sigma_z $$\n",
    "$$ [\\sigma_-, \\sigma_y] = i \\sigma_z $$\n",
    "$$ [\\sigma_-, \\sigma_z] = 2 \\sigma_- $$\n",
    "\n",
    "\n",
    "$$ [\\sigma_+, \\sigma_x] =  \\sigma_z $$\n",
    "$$ [\\sigma_+, \\sigma_y] = i \\sigma_z $$\n",
    "$$ [\\sigma_+, \\sigma_z] = -2 \\sigma_+ $$\n",
    "\n",
    "$$ [\\sigma_+, \\sigma_z]_+ = 0 $$\n",
    "$$ [\\sigma_+, \\sigma_z]_+ = 0 $$\n"
   ]
  },
  {
   "cell_type": "code",
   "execution_count": 4,
   "metadata": {},
   "outputs": [
    {
     "data": {
      "text/plain": [
       "array([[0.+0.j, 0.+0.j],\n",
       "       [1.+0.j, 0.+0.j]])"
      ]
     },
     "execution_count": 4,
     "metadata": {},
     "output_type": "execute_result"
    },
    {
     "data": {
      "text/plain": [
       "array([[ 0.+0.j, -2.+0.j],\n",
       "       [ 0.+0.j,  0.+0.j]])"
      ]
     },
     "execution_count": 4,
     "metadata": {},
     "output_type": "execute_result"
    }
   ],
   "source": [
    "# Test sigma plus-minus properties\n",
    "#splus()\n",
    "sminus()\n",
    "\n",
    "assert np.allclose( np.conjugate(splus().T ), sminus() )\n",
    "assert np.allclose( np.conjugate(sminus().T ), splus() )\n",
    "#sminus() @ X()\n",
    "#X()@ sminus() \n",
    "#Z()\n",
    "#sminus()@Z() -Z() @ sminus()\n",
    "#splus()@Y()-Y()@ splus()\n",
    "splus()@Z()-Z()@ splus()\n",
    "\n",
    "assert np.allclose(sminus()@X()-X()@ sminus(), -Z() ) , \"wrong commutation1\"\n",
    "assert np.allclose(sminus()@Y()- Y() @ sminus(), 1.0j *Z() ) , \"wrong commutation2\"\n",
    "assert np.allclose(sminus()@Z()-Z()@ sminus(), 2*sminus() ) , \"wrong commutation3\"\n",
    "\n",
    "assert np.allclose(splus()@X()-X()@ splus(), Z() ) , \"wrong commutation4\"\n",
    "assert np.allclose(splus()@Y()-Y()@ splus(), 1.0j* Z() ) , \"wrong commutation5\"\n",
    "assert np.allclose(splus()@Z()-Z()@ splus(),  -2*splus() ) , \"wrong commutation6\"\n",
    "\n",
    "assert np.allclose(sminus() @ Z() + Z() @ sminus(),np.zeros(2)), \"wrong anticommutation1\"\n",
    "assert np.allclose(splus() @ Z() +Z() @ splus(),np.zeros(2)), \"wrong anticommutation2\""
   ]
  },
  {
   "cell_type": "code",
   "execution_count": 5,
   "metadata": {},
   "outputs": [],
   "source": [
    "def sigma_creator(nq,q,tag):\n",
    "    if q>=nq:\n",
    "        print(\"error: q greater than nq\")\n",
    "        quit()\n",
    "    iden=np.array([[1,0],[0,1]])\n",
    "    \n",
    "    if tag==0:\n",
    "        Sa=X()\n",
    "    elif tag==1:\n",
    "        Sa=Y()\n",
    "    elif tag==2:\n",
    "        Sa=Z()\n",
    "    elif tag==3:\n",
    "        Sa=splus()\n",
    "    elif tag==4:\n",
    "        Sa=sminus()\n",
    "    \n",
    "    if q==0:\n",
    "        S=Sa\n",
    "        for i in range(1,nq):\n",
    "             S= np.kron(S,iden)\n",
    "        return S\n",
    "    else:\n",
    "        S=iden\n",
    "        for i in range(1,nq):\n",
    "            if q!=i:\n",
    "                S=np.kron(S,iden)\n",
    "            else:\n",
    "                S=np.kron(S,Sa)\n",
    "        \n",
    "        return S"
   ]
  },
  {
   "cell_type": "markdown",
   "metadata": {},
   "source": [
    "# Occupation basis\n",
    "\n",
    "Occupation basis are the eigenvectors of the $\\sigma_+ \\sigma_-$ or $\\sigma_- \\sigma_+$. Physics convention is to choose \n",
    "$\\sigma_- \\sigma_+$"
   ]
  },
  {
   "cell_type": "code",
   "execution_count": 6,
   "metadata": {},
   "outputs": [
    {
     "data": {
      "text/plain": [
       "True"
      ]
     },
     "execution_count": 6,
     "metadata": {},
     "output_type": "execute_result"
    },
    {
     "data": {
      "text/plain": [
       "True"
      ]
     },
     "execution_count": 6,
     "metadata": {},
     "output_type": "execute_result"
    },
    {
     "data": {
      "text/plain": [
       "True"
      ]
     },
     "execution_count": 6,
     "metadata": {},
     "output_type": "execute_result"
    },
    {
     "data": {
      "text/plain": [
       "array([[ 0.+0.j,  1.+0.j],\n",
       "       [-1.+0.j,  0.+0.j]])"
      ]
     },
     "execution_count": 6,
     "metadata": {},
     "output_type": "execute_result"
    },
    {
     "data": {
      "text/plain": [
       "(array([1.+0.j, 0.+0.j]),\n",
       " array([[1.+0.j, 0.+0.j],\n",
       "        [0.+0.j, 1.+0.j]]))"
      ]
     },
     "execution_count": 6,
     "metadata": {},
     "output_type": "execute_result"
    },
    {
     "data": {
      "text/plain": [
       "(array([0.+0.j, 1.+0.j]),\n",
       " array([[1.+0.j, 0.+0.j],\n",
       "        [0.+0.j, 1.+0.j]]))"
      ]
     },
     "execution_count": 6,
     "metadata": {},
     "output_type": "execute_result"
    },
    {
     "data": {
      "text/plain": [
       "(array([1.+0.j, 0.+0.j, 1.+0.j, 0.+0.j]),\n",
       " array([[1.+0.j, 0.+0.j, 0.+0.j, 0.+0.j],\n",
       "        [0.+0.j, 1.+0.j, 0.+0.j, 0.+0.j],\n",
       "        [0.+0.j, 0.+0.j, 1.+0.j, 0.+0.j],\n",
       "        [0.+0.j, 0.+0.j, 0.+0.j, 1.+0.j]]))"
      ]
     },
     "execution_count": 6,
     "metadata": {},
     "output_type": "execute_result"
    },
    {
     "data": {
      "text/plain": [
       "(array([0.+0.j, 1.+0.j, 0.+0.j, 1.+0.j]),\n",
       " array([[1.+0.j, 0.+0.j, 0.+0.j, 0.+0.j],\n",
       "        [0.+0.j, 1.+0.j, 0.+0.j, 0.+0.j],\n",
       "        [0.+0.j, 0.+0.j, 1.+0.j, 0.+0.j],\n",
       "        [0.+0.j, 0.+0.j, 0.+0.j, 1.+0.j]]))"
      ]
     },
     "execution_count": 6,
     "metadata": {},
     "output_type": "execute_result"
    }
   ],
   "source": [
    "np.allclose(np.kron(np.eye(2),Z()),sigma_creator(2,1,2) )\n",
    "\n",
    "np.allclose(sigma_creator(2,1,4) @ sigma_creator(2,1,2) + sigma_creator(2,1,2) @ sigma_creator(2,1,4), np.zeros(4) )\n",
    "np.allclose(sigma_creator(2,1,3) @ sigma_creator(2,1,2) + sigma_creator(2,1,2) @ sigma_creator(2,1,3), np.zeros(4) )\n",
    "\n",
    "splus()-sminus()\n",
    "\n",
    "sLA.eig(splus()@sminus())\n",
    "sLA.eig(sminus()@splus())\n",
    "\n",
    "sLA.eig(sigma_creator(2,1,3)@sigma_creator(2,1,4))\n",
    "sLA.eig(sigma_creator(2,1,4)@sigma_creator(2,1,3))\n"
   ]
  },
  {
   "cell_type": "code",
   "execution_count": 7,
   "metadata": {},
   "outputs": [],
   "source": [
    "def a_dag_op(nq,q):\n",
    "    sig_p=splus()\n",
    "    iden=np.array([[1,0],[0,1]])\n",
    "    Sz=Z()\n",
    "    \n",
    "    if q==0:\n",
    "        S=sig_p\n",
    "        for i in range(1,nq):\n",
    "             S= np.kron(S,iden)\n",
    "        return S\n",
    "    else:\n",
    "        S=Sz\n",
    "        for i in range(1,nq):\n",
    "            if i<q:\n",
    "                S=np.kron(S,Sz)\n",
    "            elif i==q:\n",
    "                S=np.kron(S,sig_p)\n",
    "            else:\n",
    "                S=np.kron(S,iden)\n",
    "        \n",
    "        return S\n",
    "\n",
    "def a_op(nq,q):\n",
    "    sig_m=sminus()\n",
    "    iden=np.array([[1,0],[0,1]])\n",
    "    Sz=Z()\n",
    "    \n",
    "    if q==0:\n",
    "        S=sig_m\n",
    "        for i in range(1,nq):\n",
    "             S= np.kron(S,iden)\n",
    "        return S\n",
    "    else:\n",
    "        S=Sz\n",
    "        for i in range(1,nq):\n",
    "            if i<q:\n",
    "                S=np.kron(S,Sz)\n",
    "            elif q==i:\n",
    "                S=np.kron(S,sig_m)\n",
    "            else:\n",
    "                S=np.kron(S,iden)\n",
    "        \n",
    "        return S"
   ]
  },
  {
   "cell_type": "markdown",
   "metadata": {},
   "source": [
    "### Commutation relation\n",
    "Let $\\sigma^{\\pm}$and $\\sigma^{z}$ be the three Pauli matrices:\n",
    "$$\n",
    "\\sigma^{+}=\\left(\\begin{array}{ll}\n",
    "0 & 1 \\\\\n",
    "0 & 0\n",
    "\\end{array}\\right) \\quad \\sigma^{-}=\\left(\\begin{array}{cc}\n",
    "0 & 0 \\\\\n",
    "1 & 0\n",
    "\\end{array}\\right) \\quad \\sigma^{z}=\\left(\\begin{array}{cc}\n",
    "1 & 0 \\\\\n",
    "0 & -1\n",
    "\\end{array}\\right)\n",
    "$$\n",
    "The transformation at the site $m$ is non-local and given by\n",
    "$$\n",
    "a_{m}^{\\dagger}=\\pi_{m-1}^{\\sigma} \\sigma_{m}^{+} \\quad, \\quad a_{m}=\\pi_{m-1}^{\\sigma} \\sigma_{m}^{-}\n",
    "$$\n",
    "with\n",
    "$$\n",
    "\\pi_{0}^{\\sigma} \\equiv \\mathbb{I} \\quad \\text { and } \\quad \\pi_{m-1}^{\\sigma} \\equiv \\sigma_{1}^{z} \\cdots \\sigma_{m-1}^{z}\n",
    "$$\n",
    "where $\\mathbb{I}$ is the identity operator. It is straightforward to check that the new operators are fermionic creation-annihilation operators,\n",
    "\\begin{align}\n",
    "\\left\\{a_{m}, a_{n}\\right\\}&=\\left\\{a_{m}^{\\dagger}, a_{n}^{\\dagger}\\right\\}=0  \\\\\n",
    "\\left\\{a_{m}^{\\dagger}, a_{n}\\right\\} &=\\delta_{m n}\n",
    "\\end{align}"
   ]
  },
  {
   "cell_type": "code",
   "execution_count": 8,
   "metadata": {},
   "outputs": [
    {
     "data": {
      "text/plain": [
       "array([[0.+0.j, 0.+0.j, 0.+0.j, 0.+0.j],\n",
       "       [0.+0.j, 0.+0.j, 0.+0.j, 0.+0.j],\n",
       "       [0.+0.j, 0.+0.j, 0.+0.j, 0.+0.j],\n",
       "       [0.+0.j, 0.+0.j, 0.+0.j, 0.+0.j]])"
      ]
     },
     "execution_count": 8,
     "metadata": {},
     "output_type": "execute_result"
    },
    {
     "data": {
      "text/plain": [
       "array([[0.+0.j, 0.+0.j, 0.+0.j, 0.+0.j],\n",
       "       [0.+0.j, 0.+0.j, 0.+0.j, 0.+0.j],\n",
       "       [0.+0.j, 0.+0.j, 0.+0.j, 0.+0.j],\n",
       "       [0.+0.j, 0.+0.j, 0.+0.j, 0.+0.j]])"
      ]
     },
     "execution_count": 8,
     "metadata": {},
     "output_type": "execute_result"
    },
    {
     "data": {
      "text/plain": [
       "array([[1.+0.j, 0.+0.j, 0.+0.j, 0.+0.j],\n",
       "       [0.+0.j, 1.+0.j, 0.+0.j, 0.+0.j],\n",
       "       [0.+0.j, 0.+0.j, 1.+0.j, 0.+0.j],\n",
       "       [0.+0.j, 0.+0.j, 0.+0.j, 1.+0.j]])"
      ]
     },
     "execution_count": 8,
     "metadata": {},
     "output_type": "execute_result"
    },
    {
     "data": {
      "text/plain": [
       "array([[1.+0.j, 0.+0.j, 0.+0.j, 0.+0.j],\n",
       "       [0.+0.j, 1.+0.j, 0.+0.j, 0.+0.j],\n",
       "       [0.+0.j, 0.+0.j, 1.+0.j, 0.+0.j],\n",
       "       [0.+0.j, 0.+0.j, 0.+0.j, 1.+0.j]])"
      ]
     },
     "execution_count": 8,
     "metadata": {},
     "output_type": "execute_result"
    },
    {
     "data": {
      "text/plain": [
       "array([[0.+0.j, 0.+0.j, 0.+0.j, 0.+0.j],\n",
       "       [0.+0.j, 0.+0.j, 0.+0.j, 0.+0.j],\n",
       "       [0.+0.j, 0.+0.j, 0.+0.j, 0.+0.j],\n",
       "       [0.+0.j, 0.+0.j, 0.+0.j, 0.+0.j]])"
      ]
     },
     "execution_count": 8,
     "metadata": {},
     "output_type": "execute_result"
    }
   ],
   "source": [
    "\n",
    "\n",
    "# check sigma_creator\n",
    "#sigma_creator(3,0,2)    \n",
    "#sigma_creator(2,0,1)\n",
    "#sigma_creator(3,2,0)\n",
    "\n",
    "#verify commuatation relation\n",
    "\n",
    "assert np.allclose(sigma_creator(2,1,0) @ sigma_creator(2,1,1) , 1.0j* sigma_creator(2,1,2)), \\\n",
    "    \"s_x s_y != i s_z at a site\"\n",
    "assert np.allclose(sigma_creator(2,0,0) @ sigma_creator(2,0,0) , np.eye(4) ), \\\n",
    "    \"s_x ^2 != I at a site\"\n",
    "\n",
    "#different site anticommutation relation\n",
    "#a_dag_op(2,1) @ a_dag_op(2,1)\n",
    "a_dag_op(2,0) @ a_dag_op(2,1) +a_dag_op(2,1) @ a_dag_op(2,0)\n",
    "\n",
    "#a_op(2,1) @ a_op(2,1)\n",
    "a_op(2,0) @ a_op(2,1) +a_op(2,1) @ a_op(2,0)\n",
    "\n",
    "#same site a a_dagger anticommutation\n",
    "a_dag_op(2,1) @ a_op(2,1) +a_op(2,1) @ a_dag_op(2,1)\n",
    "a_op(2,0) @ a_dag_op(2,0) +a_dag_op(2,0) @ a_op(2,0)\n",
    "\n",
    "#diff site a adag \n",
    "a_dag_op(2,0) @ a_op(2,1)+a_op(2,1) @ a_dag_op(2,0)"
   ]
  },
  {
   "cell_type": "markdown",
   "metadata": {},
   "source": [
    "## Commutation relations"
   ]
  },
  {
   "cell_type": "code",
   "execution_count": 9,
   "metadata": {},
   "outputs": [
    {
     "data": {
      "text/plain": [
       "array([[0.+0.j, 0.+0.j, 0.+0.j, 0.+0.j],\n",
       "       [0.+0.j, 0.+0.j, 0.+0.j, 0.+0.j],\n",
       "       [0.+0.j, 0.+0.j, 0.+0.j, 0.+0.j],\n",
       "       [0.+0.j, 0.+0.j, 0.+0.j, 0.+0.j]])"
      ]
     },
     "execution_count": 9,
     "metadata": {},
     "output_type": "execute_result"
    },
    {
     "data": {
      "text/plain": [
       "array([[0.+0.j, 0.+0.j, 0.+0.j, 0.+0.j],\n",
       "       [0.+0.j, 0.+0.j, 0.+0.j, 0.+0.j],\n",
       "       [0.+0.j, 0.+0.j, 0.+0.j, 0.+0.j],\n",
       "       [0.+0.j, 0.+0.j, 0.+0.j, 0.+0.j]])"
      ]
     },
     "execution_count": 9,
     "metadata": {},
     "output_type": "execute_result"
    },
    {
     "data": {
      "text/plain": [
       "array([[0.+0.j, 0.+0.j, 0.+0.j, 0.+0.j],\n",
       "       [0.+0.j, 0.+0.j, 0.+0.j, 0.+0.j],\n",
       "       [0.+0.j, 0.+0.j, 0.+0.j, 0.+0.j],\n",
       "       [0.+0.j, 0.+0.j, 0.+0.j, 0.+0.j]])"
      ]
     },
     "execution_count": 9,
     "metadata": {},
     "output_type": "execute_result"
    }
   ],
   "source": [
    "sigma_plus_0=sigma_creator(2,0,0)+1.0j *sigma_creator(2,0,1)\n",
    "sigma_plus_1=sigma_creator(2,1,0)+1.0j *sigma_creator(2,1,1)\n",
    "sigma_minus_0=sigma_creator(2,0,0)-1.0j *sigma_creator(2,0,1)\n",
    "sigma_minus_1=sigma_creator(2,1,0)-1.0j *sigma_creator(2,1,1)\n",
    "\n",
    "sigma_plus_0 * sigma_plus_1 - sigma_plus_1*sigma_plus_0\n",
    "sigma_minus_0 * sigma_minus_1 - sigma_minus_1*sigma_minus_0\n",
    "sigma_minus_0 * sigma_plus_1 - sigma_plus_1*sigma_minus_0\n"
   ]
  },
  {
   "cell_type": "markdown",
   "metadata": {},
   "source": [
    "# Some same site relations\n",
    "$$ \\sigma_+ \\sigma_- - \\sigma_- \\sigma_+ = \\sigma_z$$\n",
    "$$ \\sigma_+ \\sigma_- + \\sigma_- \\sigma_+ = \\rm{I}$$\n",
    "$$ \\sigma_+ \\sigma_- = \\frac{1}{2}(I +\\sigma_z)$$\n",
    "$$ \\sigma_- \\sigma_+ = \\frac{1}{2}(I -\\sigma_z)$$"
   ]
  },
  {
   "cell_type": "code",
   "execution_count": 10,
   "metadata": {},
   "outputs": [
    {
     "data": {
      "text/plain": [
       "True"
      ]
     },
     "execution_count": 10,
     "metadata": {},
     "output_type": "execute_result"
    },
    {
     "data": {
      "text/plain": [
       "True"
      ]
     },
     "execution_count": 10,
     "metadata": {},
     "output_type": "execute_result"
    },
    {
     "data": {
      "text/plain": [
       "True"
      ]
     },
     "execution_count": 10,
     "metadata": {},
     "output_type": "execute_result"
    },
    {
     "data": {
      "text/plain": [
       "True"
      ]
     },
     "execution_count": 10,
     "metadata": {},
     "output_type": "execute_result"
    },
    {
     "data": {
      "text/plain": [
       "True"
      ]
     },
     "execution_count": 10,
     "metadata": {},
     "output_type": "execute_result"
    }
   ],
   "source": [
    "\n",
    "np.allclose(splus() @ sminus() +sminus() @ splus() , np.eye(2) )\n",
    "\n",
    "np.allclose(splus() @ sminus(), 0.5 *(np.eye(2)+Z() ) )\n",
    "np.allclose(sminus() @ splus(), 0.5 *(np.eye(2)-Z() ) )\n",
    "\n",
    "np.allclose(sigma_creator(2,0,3) @ sigma_creator(2,0,4), 0.5 *(np.eye(4)+sigma_creator(2,0,2) ) )\n",
    "np.allclose(sigma_creator(2,0,4) @ sigma_creator(2,0,3), 0.5 *(np.eye(4)-sigma_creator(2,0,2) ) )\n"
   ]
  },
  {
   "cell_type": "markdown",
   "metadata": {},
   "source": [
    "# Few other same site relations\n",
    "$$\\sigma_+^2=\\sigma_-^2=0$$\n",
    "$$\\sigma_-\\sigma_z= \\sigma_-$$\n",
    "$$\\sigma_+\\sigma_z= -\\sigma_+$$\n",
    "$$\\sigma_z\\sigma_-= - \\sigma_-$$\n",
    "$$\\sigma_z\\sigma_+=\\sigma_+$$\n",
    "\n",
    "# Use same site relation to do algebra\n",
    "If j,k are qubit index,\n",
    "\n",
    "$$ \\sigma_+ (j) \\sigma_-(j) \\tau_+ (k) \\tau_-(k)  =(\\rm{I} -\\sigma_- (j) \\sigma_+(j) ) (\\rm{I} -\\tau_- (j) \\tau_+(k) )$$\n",
    "$$= (\\rm{I} - \\sigma_- (j) \\sigma_+(j)  -\\tau_- (j) \\tau_+(k) +\\sigma_- (j) \\sigma_+(j)  \\tau_- (j) \\tau_+(k) ) $$"
   ]
  },
  {
   "cell_type": "code",
   "execution_count": 11,
   "metadata": {},
   "outputs": [
    {
     "data": {
      "text/plain": [
       "array([[ True,  True],\n",
       "       [ True,  True]])"
      ]
     },
     "execution_count": 11,
     "metadata": {},
     "output_type": "execute_result"
    },
    {
     "data": {
      "text/plain": [
       "array([[ True,  True],\n",
       "       [ True,  True]])"
      ]
     },
     "execution_count": 11,
     "metadata": {},
     "output_type": "execute_result"
    },
    {
     "data": {
      "text/plain": [
       "True"
      ]
     },
     "execution_count": 11,
     "metadata": {},
     "output_type": "execute_result"
    },
    {
     "data": {
      "text/plain": [
       "True"
      ]
     },
     "execution_count": 11,
     "metadata": {},
     "output_type": "execute_result"
    },
    {
     "data": {
      "text/plain": [
       "True"
      ]
     },
     "execution_count": 11,
     "metadata": {},
     "output_type": "execute_result"
    },
    {
     "data": {
      "text/plain": [
       "True"
      ]
     },
     "execution_count": 11,
     "metadata": {},
     "output_type": "execute_result"
    },
    {
     "data": {
      "text/plain": [
       "True"
      ]
     },
     "execution_count": 11,
     "metadata": {},
     "output_type": "execute_result"
    },
    {
     "data": {
      "text/plain": [
       "True"
      ]
     },
     "execution_count": 11,
     "metadata": {},
     "output_type": "execute_result"
    },
    {
     "data": {
      "text/plain": [
       "True"
      ]
     },
     "execution_count": 11,
     "metadata": {},
     "output_type": "execute_result"
    },
    {
     "data": {
      "text/plain": [
       "True"
      ]
     },
     "execution_count": 11,
     "metadata": {},
     "output_type": "execute_result"
    }
   ],
   "source": [
    "Z() @ sminus() == -sminus()\n",
    "splus() @ Z() == -splus()\n",
    "assert np.allclose(splus() @ splus(),np.zeros(2)) , \"tag1: eqn1 above error\"\n",
    "assert np.allclose(sminus() @ sminus(),np.zeros(2)) , \"tag2: eqn1 above error\"\n",
    "Q=3\n",
    "assert np.allclose(sigma_creator(Q,1,3) @ sigma_creator(Q,1,3),np.zeros(2**Q)) , \"tag3: eqn1 above error\"\n",
    "assert np.allclose(sigma_creator(Q,1,4) @ sigma_creator(Q,1,4),np.zeros(2**Q)) , \"tag4: eqn1 above error\"\n",
    "\n",
    "np.allclose(sminus() @ Z() , sminus())\n",
    "np.allclose(splus() @ Z() , -splus())\n",
    "np.allclose(Z()@ sminus(),  -sminus())\n",
    "np.allclose(Z()@ splus(),splus() )\n",
    "\n",
    "np.allclose(sigma_creator(Q,1,4) @ sigma_creator(Q,1,2), sigma_creator(Q,1,4) )\n",
    "np.allclose(sigma_creator(Q,1,3) @ sigma_creator(Q,1,2), -sigma_creator(Q,1,3) )\n",
    "np.allclose(sigma_creator(Q,1,2) @ sigma_creator(Q,1,4), -sigma_creator(Q,1,4) )\n",
    "np.allclose(sigma_creator(Q,1,2) @ sigma_creator(Q,1,3), sigma_creator(Q,1,3) )\n",
    "\n"
   ]
  },
  {
   "cell_type": "markdown",
   "metadata": {},
   "source": [
    "# $\\sigma_{\\pm}$, $\\sigma_z$ operators commute at different site\n",
    "\n",
    "\n",
    "If j,k donotes different lattice site\n",
    "$$\\sigma_+(j) \\sigma_-(k) =\\sigma_+(k) \\sigma_-(j)$$\n",
    "\n",
    "$$\\sigma_+(j) \\sigma_z(k) =\\sigma_z(k) \\sigma_-(j)$$\n",
    "\n",
    "$$ (\\sigma_+(j) \\sigma_-(k)) ^\\dagger =\\sigma_+(k) \\sigma_-(j) =\\sigma_-(j) \\sigma_+(k)$$\n",
    "\n"
   ]
  },
  {
   "cell_type": "code",
   "execution_count": 12,
   "metadata": {},
   "outputs": [
    {
     "data": {
      "text/plain": [
       "True"
      ]
     },
     "execution_count": 12,
     "metadata": {},
     "output_type": "execute_result"
    },
    {
     "data": {
      "text/plain": [
       "True"
      ]
     },
     "execution_count": 12,
     "metadata": {},
     "output_type": "execute_result"
    },
    {
     "data": {
      "text/plain": [
       "True"
      ]
     },
     "execution_count": 12,
     "metadata": {},
     "output_type": "execute_result"
    },
    {
     "data": {
      "text/plain": [
       "True"
      ]
     },
     "execution_count": 12,
     "metadata": {},
     "output_type": "execute_result"
    },
    {
     "data": {
      "text/plain": [
       "True"
      ]
     },
     "execution_count": 12,
     "metadata": {},
     "output_type": "execute_result"
    },
    {
     "data": {
      "text/plain": [
       "True"
      ]
     },
     "execution_count": 12,
     "metadata": {},
     "output_type": "execute_result"
    },
    {
     "data": {
      "text/plain": [
       "True"
      ]
     },
     "execution_count": 12,
     "metadata": {},
     "output_type": "execute_result"
    },
    {
     "data": {
      "text/plain": [
       "True"
      ]
     },
     "execution_count": 12,
     "metadata": {},
     "output_type": "execute_result"
    }
   ],
   "source": [
    "Q=3\n",
    "np.allclose(sigma_creator(Q,1,3) @ sigma_creator(Q,2,4) ,sigma_creator(Q,2,4) @ sigma_creator(Q,1,3) )\n",
    "np.allclose(sigma_creator(Q,1,3) @ sigma_creator(Q,0,4) ,sigma_creator(Q,0,4) @ sigma_creator(Q,1,3) )\n",
    "np.allclose(sigma_creator(Q,2,3) @ sigma_creator(Q,0,4) ,sigma_creator(Q,0,4) @ sigma_creator(Q,2,3) )\n",
    "\n",
    "np.allclose(sigma_creator(Q,2,3) @ sigma_creator(Q,0,2) ,sigma_creator(Q,0,2) @ sigma_creator(Q,2,3) )\n",
    "np.allclose(sigma_creator(Q,1,3) @ sigma_creator(Q,0,2) ,sigma_creator(Q,0,2) @ sigma_creator(Q,1,3) )\n",
    "np.allclose(sigma_creator(Q,1,3) @ sigma_creator(Q,0,2) ,sigma_creator(Q,0,2) @ sigma_creator(Q,1,3) )\n",
    "\n",
    "np.allclose( np.conj(sigma_creator(Q,2,3) @ sigma_creator(Q,0,4)).T ,sigma_creator(Q,0,3) @ sigma_creator(Q,2,4) )\n",
    "np.allclose( np.conj(sigma_creator(Q,2,3) @ sigma_creator(Q,0,4)).T ,sigma_creator(Q,2,4) @ sigma_creator(Q,0,3) )"
   ]
  },
  {
   "cell_type": "markdown",
   "metadata": {},
   "source": [
    "# State Evolution check"
   ]
  },
  {
   "cell_type": "code",
   "execution_count": 13,
   "metadata": {},
   "outputs": [
    {
     "data": {
      "text/plain": [
       "array([[0.+0.j, 0.+0.j],\n",
       "       [1.+0.j, 0.+0.j]])"
      ]
     },
     "execution_count": 13,
     "metadata": {},
     "output_type": "execute_result"
    },
    {
     "data": {
      "text/plain": [
       "array([1, 0])"
      ]
     },
     "execution_count": 13,
     "metadata": {},
     "output_type": "execute_result"
    },
    {
     "data": {
      "text/plain": [
       "array([0.+0.j, 1.+0.j])"
      ]
     },
     "execution_count": 13,
     "metadata": {},
     "output_type": "execute_result"
    },
    {
     "data": {
      "text/plain": [
       "array([1.+0.j, 0.+0.j])"
      ]
     },
     "execution_count": 13,
     "metadata": {},
     "output_type": "execute_result"
    },
    {
     "data": {
      "text/plain": [
       "array([0.+0.j, 0.+0.j])"
      ]
     },
     "execution_count": 13,
     "metadata": {},
     "output_type": "execute_result"
    },
    {
     "data": {
      "text/plain": [
       "array([0.+0.j, 0.+0.j])"
      ]
     },
     "execution_count": 13,
     "metadata": {},
     "output_type": "execute_result"
    },
    {
     "data": {
      "text/plain": [
       "array([0.+0.j, 1.+0.j])"
      ]
     },
     "execution_count": 13,
     "metadata": {},
     "output_type": "execute_result"
    }
   ],
   "source": [
    "zero_state=np.array([1,0])\n",
    "one_state=np.array([0,1])\n",
    "\n",
    "sminus()\n",
    "zero_state\n",
    "sminus() @ zero_state.T\n",
    "splus()@ sminus() @ zero_state.T\n",
    "\n",
    "splus()@ sminus() @ one_state.T\n",
    "\n",
    "sminus()@ splus() @ zero_state.T\n",
    "sminus()@ splus() @ one_state.T"
   ]
  },
  {
   "cell_type": "markdown",
   "metadata": {},
   "source": [
    "\n",
    "# Some Tensor Identity check\n",
    "A & B 1 qubit operators, A acts on 0th qubit, B acts on 1st qubit, I identity operator,\n",
    "$$ (A\\otimes I )( I \\otimes B) = A \\otimes B $$"
   ]
  },
  {
   "cell_type": "code",
   "execution_count": 14,
   "metadata": {},
   "outputs": [
    {
     "data": {
      "text/plain": [
       "True"
      ]
     },
     "execution_count": 14,
     "metadata": {},
     "output_type": "execute_result"
    },
    {
     "name": "stdout",
     "output_type": "stream",
     "text": [
      "  (0, 0)\t(1+0j)\n",
      "  (1, 1)\t(1+0j)\n",
      "  (4, 4)\t(1+0j)\n",
      "  (5, 5)\t(1+0j)\n",
      "X5   (0, 0)\t(1+0j)\n",
      "  (1, 1)\t(1+0j)\n",
      "  (4, 4)\t(1+0j)\n",
      "  (5, 5)\t(1+0j)\n"
     ]
    },
    {
     "data": {
      "text/plain": [
       "array([[ 1.+0.j,  0.+0.j],\n",
       "       [ 0.+0.j, -1.+0.j]])"
      ]
     },
     "execution_count": 14,
     "metadata": {},
     "output_type": "execute_result"
    },
    {
     "data": {
      "text/plain": [
       "True"
      ]
     },
     "execution_count": 14,
     "metadata": {},
     "output_type": "execute_result"
    },
    {
     "data": {
      "text/plain": [
       "False"
      ]
     },
     "execution_count": 14,
     "metadata": {},
     "output_type": "execute_result"
    }
   ],
   "source": [
    "A=np.arange(1,5,1).reshape((2,2))\n",
    "B=np.arange(5,9,1).reshape((2,2))\n",
    "\n",
    "np.allclose( np.kron(A,np.eye(2)) @ np.kron(np.eye(2),B), np.kron(A,B) )\n",
    "\n",
    "#splus(0) sminus(0) splus(2) sminus(2)\n",
    "X1=sigma_creator(4,0,3) @ sigma_creator(4,0,4) @  sigma_creator(4,2,3) @ sigma_creator(4,2,4)\n",
    "X2=sparse.csr_matrix(X1)\n",
    "print(X2)\n",
    "X3=sigma_creator(2,0,3) @ sigma_creator(2,0,4) \n",
    "X4=np.kron(X3,X3) \n",
    "X5=sparse.csr_matrix(X4)\n",
    "print(\"X5\",X5)\n",
    "\n",
    "splus() @ sminus() - sminus() @ splus()\n",
    "np.allclose(sigma_creator(8,0,3) @ sigma_creator(8,2,4) , sigma_creator(8,2,4) @ sigma_creator(8,0,3))\n",
    "np.allclose(sigma_creator(8,0,3) @ sigma_creator(8,2,4) , sigma_creator(8,2,3) @ sigma_creator(8,0,4))"
   ]
  },
  {
   "cell_type": "markdown",
   "metadata": {},
   "source": [
    "## Hamiltonian \n",
    "\n",
    "Open boundary condition for N site, each site has two qubit. Total qubit $nq=2N$.\n",
    "\\begin{align}\n",
    "H &=-i\\sum_{x=1}^{N-1} ( \\sigma_+(x)\\sigma_-(x+1)+\\tau_+(x)\\tau_-(x+1) - \\sigma_-(x)\\sigma_+(x+1)-\\tau_-(x)\\tau_+(x+1))\\nonumber\\\\\n",
    "&\\quad\\quad\\quad+ \\sum_{x=1}^{N} \\frac{G^2}{4}\\left(1+\\sigma^3(x)\\right)\\left(1+\\tau^3(x)\\right) +\\rm{h.c} \\nonumber \\\\\n",
    "&=-2i\\sum_{x=1}^{N-1} ( \\sigma_+(x)\\sigma_-(x+1)- \\sigma_-(x)\\sigma_+(x+1)+\\tau_+(x)\\tau_-(x+1) -\\tau_-(x)\\tau_+(x+1))\\nonumber\\\\\n",
    "&\\quad\\quad\\quad+ \\sum_{x=1}^{N} \\frac{2G^2}{4}\\left(1+\\sigma^3(x)\\right)\\left(1+\\tau^3(x)\\right) \\nonumber\n",
    "\\end{align}\n",
    "\n",
    "The factor 2 in the second term is absorbed in $G^2$\n",
    "\n",
    "Hamiltonian in $\\sigma_{x,y}$\n",
    "\\begin{align}\n",
    "H&=\\frac{1}{2}\\sum_{x=1}^{N-1} \\Bigg(  \\sigma_1(x)\\sigma_2(x+1)-\\sigma_2(x)\\sigma_1(x+1)\n",
    "+\\tau_1(x)\\tau_2(x+1) -\\tau_2(x)\\tau_1(x+1)   \\Bigg) \\\\\n",
    "&+ \\frac{G^2}{4} \\sum_{x=1}^{N}  \\Bigg( I - \\sigma_3(x)- \\tau_3(x)+ \\sigma_3(x)\\tau_3(x)\\Bigg) \n",
    "\\end{align}"
   ]
  },
  {
   "cell_type": "markdown",
   "metadata": {},
   "source": [
    "# Two site, 4 Qubit Hamiltonian Explicit form\n",
    "Convention used $\\sigma_+(x)$, where $x$ is the site index\n",
    "\\begin{align}\n",
    "H&=-2i \\Big( \\sigma_+(0)\\sigma_-(1)+\\tau_+(0)\\tau_-(1) - \\sigma_-(0)\\sigma_+(1)-\\tau_-(0)\\tau_+(1) \\Big)\n",
    "+ 2G^2  \\Big( \\sigma_+(0)\\sigma_-(0)\\tau_+(0)\\tau_-(0) + \\sigma_+(1)\\sigma_-(1)\\tau_+(1)\\tau_-(1) \\Big)\n",
    "\\end{align}\n",
    "\n",
    "\n",
    "If we rather use qubit index, that is if x denotes qubit in $\\sigma_+(x)$,\n",
    "\\begin{align}\n",
    "H&=-2i \\Big( \\sigma_+(0)\\sigma_-(1)+\\tau_+(2)\\tau_-(3) - \\sigma_-(0)\\sigma_+(1)-\\tau_-(2)\\tau_+(3) \\Big)\n",
    "+ 2G^2  \\Big( \\sigma_+(0)\\sigma_-(0)\\tau_+(2)\\tau_-(2) + \\sigma_+(1)\\sigma_-(1)\\tau_+(3)\\tau_-(3) \\Big)\n",
    "\\end{align}"
   ]
  },
  {
   "cell_type": "markdown",
   "metadata": {},
   "source": [
    "In the qubit tensor product notation\n",
    "\\begin{align}\n",
    "H&=- 2i \\Big( \\sigma_+ \\otimes \\sigma_- \\otimes \\rm I \\otimes \\rm I \\quad\n",
    "+\\rm{I} \\otimes \\rm{I}\\otimes  \\tau_+ \\otimes \\tau_- \\quad\n",
    "- \\sigma_- \\otimes \\sigma_+ \\otimes \\rm I \\otimes \\rm I \\quad\n",
    "-\\rm{I} \\otimes \\rm{I}\\otimes  \\tau_- \\otimes \\tau_+ \\quad \\Big) \\nonumber \\\\\n",
    "&+ G^2  \\Big( \\sigma_+\\sigma_- \\otimes \\rm{I} \\otimes \\tau_+\\tau_- \\otimes \\rm{I} \\quad\n",
    "+ \\rm{I} \\otimes \\sigma_+\\sigma_- \\otimes \\rm{I} \\otimes \\tau_+\\tau_- \\Big)\n",
    "\\end{align}"
   ]
  },
  {
   "cell_type": "markdown",
   "metadata": {},
   "source": [
    "# Operator dimension change check\n",
    "\n",
    "If $Q_1$ is a N-qubit operator, and $Q2$ is another N-Qubit operator acting on a different set of qubits, then the combined effect of the two operators $Q$ can be expressed as\n",
    "\n",
    "$$  Q| i_1 i_2 \\cdots i_N  j_1 j_2 \\cdots j_N \\rangle  = (Q_1 \\otimes \\mathrm{I}_N) (\\mathrm{I}_N \\otimes Q_2) |i_1 i_2 \\cdots i_N j_1 j_2 \\cdots j_N \\rangle  $$\n",
    "where, $\\rm{I}_N$ is the N-qubit identitiy operator.\n",
    "\n",
    "Just for clarification, note the following relation \n",
    "$$  Q| i_1 i_2 \\cdots i_N  j_1 j_2 \\cdots j_N \\rangle  \\neq (Q_1  \\otimes\n",
    "     Q_2) | i_1 i_2 \\cdots i_N  j_1 j_2 \\cdots j_N \\rangle  $$\n",
    "\n",
    "\n"
   ]
  },
  {
   "cell_type": "code",
   "execution_count": 15,
   "metadata": {},
   "outputs": [
    {
     "data": {
      "text/plain": [
       "True"
      ]
     },
     "execution_count": 15,
     "metadata": {},
     "output_type": "execute_result"
    },
    {
     "data": {
      "text/plain": [
       "True"
      ]
     },
     "execution_count": 15,
     "metadata": {},
     "output_type": "execute_result"
    },
    {
     "data": {
      "text/plain": [
       "True"
      ]
     },
     "execution_count": 15,
     "metadata": {},
     "output_type": "execute_result"
    }
   ],
   "source": [
    "np.allclose(np.kron( np.kron(splus(),sminus() ), np.eye(4) ) , \\\n",
    "            np.kron(np.kron( np.kron(splus(),sminus() ), np.eye(2) ),np.eye(2)) )\n",
    "\n",
    "# 1 Qubit sigma operator tensor product relation to 2 qubit form of the operator\n",
    "np.allclose(np.kron(sminus(),sminus()),sigma_creator(2,0,4) @ sigma_creator(2,1,4))\n",
    "#2 Qubit to 4 Qubit operator\n",
    "np.allclose(np.kron(sigma_creator(2,0,4),np.eye(4)) @ np.kron(np.eye(4),sigma_creator(2,0,4))\\\n",
    "            ,sigma_creator(4,0,4) @ sigma_creator(4,2,4))\n"
   ]
  },
  {
   "cell_type": "code",
   "execution_count": 16,
   "metadata": {},
   "outputs": [],
   "source": [
    "def ff2site(Gsqr,dummy):\n",
    "    H1=np.kron( np.kron(splus(),sminus() ), np.eye(4) ) \\\n",
    "       + np.kron( np.eye(4), np.kron(splus(),sminus() ) ) \n",
    "\n",
    "    H2= -np.kron( np.kron(sminus(),splus() ), np.eye(4) ) \\\n",
    "        -np.kron( np.eye(4), np.kron(sminus(),splus() ) ) \n",
    "\n",
    "    splusminus=splus() @ sminus()\n",
    "\n",
    "    H3=np.kron( np.kron( np.kron(splusminus,np.eye(2) ), splusminus ),np.eye(2) )   \n",
    "\n",
    "    H4=np.kron( np.kron( np.kron( np.eye(2), splusminus ),np.eye(2)  ),splusminus )  \n",
    "\n",
    "    H_2site= dummy*(H1+H2)+ Gsqr*(H3+H4)\n",
    "    \n",
    "    H_2site_sp=sparse.csr_matrix(H_2site)\n",
    "    print(H_2site_sp)\n",
    "    a,b=sLA.eigh(H_2site)\n",
    "    \n",
    "    return a, H_2site"
   ]
  },
  {
   "cell_type": "markdown",
   "metadata": {},
   "source": [
    "def ffh(Gsqr,nq,dummy):\n",
    "    print(Gsqr,nq)\n",
    "    dim=2**nq\n",
    "    dim2=4**nq\n",
    "    \n",
    "    H1=np.zeros((dim2,dim2)).astype(np.complex_)\n",
    "    H2=np.zeros((dim2,dim2)).astype(np.complex_)\n",
    "    Hfinal=np.zeros( (dim2,dim2)).astype(np.complex_)\n",
    "    \n",
    "    for i in range(nq-1):\n",
    "        temp= sigma_creator(nq,i,3) @ sigma_creator(nq,i+1,4)\n",
    "        H1 += ( np.kron(np.identity(dim),temp) +np.kron(temp,np.identity(dim)) )\n",
    "        H2 += ( np.kron ((np.eye(dim)+ sigma_creator(nq,i,2)), (np.eye(dim)+sigma_creator(nq,i,2)) )  )\n",
    "    \n",
    "    \n",
    "    \n",
    "    H2 += ( np.kron ((np.eye(dim)+ sigma_creator(nq,nq-1,2)), (np.eye(dim)+sigma_creator(nq,nq-1,2)) )  )\n",
    "    \n",
    "    Hfinal=-0.5*dummy* H1    +0.25*Gsqr *H2\n",
    "    \n",
    "    Hfinal=np.conjugate(Hfinal).T\n",
    "    temp=sparse.csr_matrix(Hfinal)\n",
    "    print(temp)\n",
    "    \n",
    "    return Hfinal\n"
   ]
  },
  {
   "cell_type": "markdown",
   "metadata": {},
   "source": [
    "# 4-Fermi Hamiltonian"
   ]
  },
  {
   "cell_type": "code",
   "execution_count": 17,
   "metadata": {},
   "outputs": [
    {
     "name": "stdout",
     "output_type": "stream",
     "text": [
      "  (1, 2)\t(-1+0j)\n",
      "  (2, 1)\t(-1+0j)\n",
      "  (2, 4)\t(-1+0j)\n",
      "  (3, 5)\t(-1+0j)\n",
      "  (4, 2)\t(-1+0j)\n",
      "  (4, 8)\t(-1+0j)\n",
      "  (5, 3)\t(-1+0j)\n",
      "  (5, 6)\t(-1+0j)\n",
      "  (5, 9)\t(-1+0j)\n",
      "  (6, 5)\t(-1+0j)\n",
      "  (6, 10)\t(-1+0j)\n",
      "  (7, 11)\t(-1+0j)\n",
      "  (8, 4)\t(-1+0j)\n",
      "  (9, 5)\t(-1+0j)\n",
      "  (9, 10)\t(-1+0j)\n",
      "  (10, 6)\t(-1+0j)\n",
      "  (10, 9)\t(-1+0j)\n",
      "  (10, 12)\t(-1+0j)\n",
      "  (11, 7)\t(-1+0j)\n",
      "  (11, 13)\t(-1+0j)\n",
      "  (12, 10)\t(-1+0j)\n",
      "  (13, 11)\t(-1+0j)\n",
      "  (13, 14)\t(-1+0j)\n",
      "  (14, 13)\t(-1+0j)\n",
      "  (16, 32)\t(1+0j)\n",
      "  :\t:\n",
      "  (246, 245)\t(-1+0j)\n",
      "  (246, 246)\t(4+0j)\n",
      "  (246, 250)\t(-1+0j)\n",
      "  (247, 247)\t(6+0j)\n",
      "  (247, 251)\t(-1+0j)\n",
      "  (248, 244)\t(-1+0j)\n",
      "  (248, 248)\t(2+0j)\n",
      "  (249, 245)\t(-1+0j)\n",
      "  (249, 249)\t(4+0j)\n",
      "  (249, 250)\t(-1+0j)\n",
      "  (250, 246)\t(-1+0j)\n",
      "  (250, 249)\t(-1+0j)\n",
      "  (250, 250)\t(4+0j)\n",
      "  (250, 252)\t(-1+0j)\n",
      "  (251, 247)\t(-1+0j)\n",
      "  (251, 251)\t(6+0j)\n",
      "  (251, 253)\t(-1+0j)\n",
      "  (252, 250)\t(-1+0j)\n",
      "  (252, 252)\t(4+0j)\n",
      "  (253, 251)\t(-1+0j)\n",
      "  (253, 253)\t(6+0j)\n",
      "  (253, 254)\t(-1+0j)\n",
      "  (254, 253)\t(-1+0j)\n",
      "  (254, 254)\t(6+0j)\n",
      "  (255, 255)\t(8+0j)\n"
     ]
    },
    {
     "data": {
      "text/plain": [
       "['-3.07',\n",
       " '-3.07',\n",
       " '-2.88',\n",
       " '-2.82',\n",
       " '-2.24',\n",
       " '-2.24',\n",
       " '-2.24',\n",
       " '-2.23',\n",
       " '-2.23',\n",
       " '-2.09',\n",
       " '-2.09',\n",
       " '-2.09',\n",
       " '-1.82',\n",
       " '-1.82',\n",
       " '-1.68',\n",
       " '-1.62',\n",
       " '-1.62',\n",
       " '-1.62',\n",
       " '-1.62',\n",
       " '-1.62',\n",
       " '-1.62',\n",
       " '-1.32',\n",
       " '-1.32',\n",
       " '-1.32',\n",
       " '-1.10',\n",
       " '-1.10',\n",
       " '-1.07',\n",
       " '-1.07',\n",
       " '-1.03',\n",
       " '-1.00',\n",
       " '-1.00',\n",
       " '-1.00',\n",
       " '-0.82',\n",
       " '-0.82',\n",
       " '-0.72',\n",
       " '-0.72',\n",
       " '-0.62',\n",
       " '-0.62',\n",
       " '-0.62',\n",
       " '-0.62',\n",
       " '-0.62',\n",
       " '-0.62',\n",
       " '-0.48',\n",
       " '-0.48',\n",
       " '-0.48',\n",
       " '-0.45',\n",
       " '-0.24',\n",
       " '-0.24',\n",
       " '-0.24',\n",
       " '-0.23',\n",
       " '-0.23',\n",
       " '-0.00',\n",
       " '-0.00',\n",
       " '-0.00',\n",
       " '-0.00',\n",
       " '-0.00',\n",
       " '-0.00',\n",
       " '-0.00',\n",
       " '0.00',\n",
       " '0.00',\n",
       " '0.00',\n",
       " '0.00',\n",
       " '0.00',\n",
       " '0.00',\n",
       " '0.06',\n",
       " '0.06',\n",
       " '0.10',\n",
       " '0.10',\n",
       " '0.18',\n",
       " '0.18',\n",
       " '0.32',\n",
       " '0.36',\n",
       " '0.38',\n",
       " '0.38',\n",
       " '0.38',\n",
       " '0.38',\n",
       " '0.38',\n",
       " '0.38',\n",
       " '0.48',\n",
       " '0.48',\n",
       " '0.48',\n",
       " '0.62',\n",
       " '0.62',\n",
       " '0.62',\n",
       " '0.62',\n",
       " '0.62',\n",
       " '0.62',\n",
       " '0.90',\n",
       " '0.90',\n",
       " '0.99',\n",
       " '0.99',\n",
       " '1.00',\n",
       " '1.00',\n",
       " '1.00',\n",
       " '1.00',\n",
       " '1.00',\n",
       " '1.00',\n",
       " '1.00',\n",
       " '1.01',\n",
       " '1.01',\n",
       " '1.18',\n",
       " '1.18',\n",
       " '1.28',\n",
       " '1.28',\n",
       " '1.38',\n",
       " '1.38',\n",
       " '1.38',\n",
       " '1.38',\n",
       " '1.38',\n",
       " '1.38',\n",
       " '1.52',\n",
       " '1.55',\n",
       " '1.62',\n",
       " '1.62',\n",
       " '1.62',\n",
       " '1.62',\n",
       " '1.62',\n",
       " '1.62',\n",
       " '1.64',\n",
       " '1.64',\n",
       " '1.64',\n",
       " '1.73',\n",
       " '1.76',\n",
       " '1.76',\n",
       " '1.76',\n",
       " '1.90',\n",
       " '1.90',\n",
       " '1.94',\n",
       " '1.94',\n",
       " '2.00',\n",
       " '2.00',\n",
       " '2.00',\n",
       " '2.00',\n",
       " '2.00',\n",
       " '2.00',\n",
       " '2.00',\n",
       " '2.06',\n",
       " '2.06',\n",
       " '2.10',\n",
       " '2.10',\n",
       " '2.24',\n",
       " '2.24',\n",
       " '2.24',\n",
       " '2.27',\n",
       " '2.32',\n",
       " '2.36',\n",
       " '2.38',\n",
       " '2.38',\n",
       " '2.45',\n",
       " '2.45',\n",
       " '2.45',\n",
       " '2.48',\n",
       " '2.62',\n",
       " '2.62',\n",
       " '2.62',\n",
       " '2.62',\n",
       " '2.62',\n",
       " '2.62',\n",
       " '2.72',\n",
       " '2.72',\n",
       " '2.82',\n",
       " '2.82',\n",
       " '2.82',\n",
       " '2.99',\n",
       " '2.99',\n",
       " '3.00',\n",
       " '3.00',\n",
       " '3.00',\n",
       " '3.00',\n",
       " '3.00',\n",
       " '3.00',\n",
       " '3.00',\n",
       " '3.01',\n",
       " '3.01',\n",
       " '3.10',\n",
       " '3.10',\n",
       " '3.18',\n",
       " '3.32',\n",
       " '3.38',\n",
       " '3.38',\n",
       " '3.52',\n",
       " '3.55',\n",
       " '3.62',\n",
       " '3.62',\n",
       " '3.62',\n",
       " '3.62',\n",
       " '3.62',\n",
       " '3.62',\n",
       " '3.68',\n",
       " '3.68',\n",
       " '3.68',\n",
       " '3.82',\n",
       " '3.82',\n",
       " '3.90',\n",
       " '3.90',\n",
       " '3.94',\n",
       " '3.94',\n",
       " '4.00',\n",
       " '4.00',\n",
       " '4.00',\n",
       " '4.00',\n",
       " '4.00',\n",
       " '4.00',\n",
       " '4.00',\n",
       " '4.00',\n",
       " '4.09',\n",
       " '4.23',\n",
       " '4.23',\n",
       " '4.24',\n",
       " '4.24',\n",
       " '4.24',\n",
       " '4.36',\n",
       " '4.38',\n",
       " '4.38',\n",
       " '4.48',\n",
       " '4.62',\n",
       " '4.62',\n",
       " '4.72',\n",
       " '4.72',\n",
       " '4.82',\n",
       " '4.82',\n",
       " '4.82',\n",
       " '5.00',\n",
       " '5.00',\n",
       " '5.00',\n",
       " '5.03',\n",
       " '5.07',\n",
       " '5.07',\n",
       " '5.10',\n",
       " '5.10',\n",
       " '5.32',\n",
       " '5.38',\n",
       " '5.38',\n",
       " '5.52',\n",
       " '5.62',\n",
       " '5.62',\n",
       " '5.82',\n",
       " '5.82',\n",
       " '6.00',\n",
       " '6.09',\n",
       " '6.23',\n",
       " '6.23',\n",
       " '6.24',\n",
       " '6.24',\n",
       " '6.24',\n",
       " '6.48',\n",
       " '6.62',\n",
       " '6.62',\n",
       " '6.88',\n",
       " '7.07',\n",
       " '7.07',\n",
       " '7.32',\n",
       " '7.62',\n",
       " '7.62',\n",
       " '8.00',\n",
       " '8.09']"
      ]
     },
     "execution_count": 17,
     "metadata": {},
     "output_type": "execute_result"
    },
    {
     "data": {
      "text/plain": [
       "[<matplotlib.lines.Line2D at 0x7f3561659fd0>]"
      ]
     },
     "execution_count": 17,
     "metadata": {},
     "output_type": "execute_result"
    },
    {
     "data": {
      "image/png": "[encoded data removed]",
      "text/plain": [
       "<Figure size 432x288 with 1 Axes>"
      ]
     },
     "metadata": {
      "needs_background": "light"
     },
     "output_type": "display_data"
    }
   ],
   "source": [
    "def ffh2(Gsqr,N,nq,dummy):\n",
    "    dim= 2**nq\n",
    "    HA=np.zeros((dim,dim)).astype(np.complex_)\n",
    "    HB=np.zeros((dim,dim)).astype(np.complex_)\n",
    "    Hfinal=np.zeros( (dim,dim)).astype(np.complex_)\n",
    "    \n",
    "    for i in range(N-1):\n",
    "        HA = HA+ sigma_creator(nq,i,3) @ sigma_creator(nq,i+1,4)\n",
    "        HA = HA - sigma_creator(nq,i+N,3) @ sigma_creator(nq,N+i+1,4)\n",
    "        \n",
    "        HA = HA +sigma_creator(nq,i,4) @ sigma_creator(nq,i+1,3)\n",
    "        HA = HA -sigma_creator(nq,i+N,4) @ sigma_creator(nq,N+i+1,3)\n",
    "                \n",
    "        \n",
    "        HB = HB + ( sigma_creator(nq,i,4) @ sigma_creator(nq,i,3) @  sigma_creator(nq,i+N,4) @ sigma_creator(nq,i+N,3) )\n",
    "        \n",
    "        \n",
    "        \n",
    "    HB = HB + (sigma_creator(nq,N-1,4) @ sigma_creator(nq,N-1,3) @ sigma_creator(nq,nq-1,4) @ sigma_creator(nq,nq-1,3) )\n",
    "\n",
    "    \n",
    "    Hfinal= dummy*HA+ Gsqr*HB\n",
    "    \n",
    "   \n",
    "    \n",
    "    temp=sparse.csr_matrix(Hfinal)\n",
    "    print(temp)\n",
    "    \n",
    "    return Hfinal\n",
    "\n",
    "#Create the Hamiltonian\n",
    "Gsqr=2\n",
    "N=4\n",
    "nq=2*N # no of site\n",
    "dummy=1\n",
    "mmax=2**(nq) # each site has two qubit  \n",
    "\n",
    "Hdum=ffh2(Gsqr,N,nq,dummy)\n",
    "#Hdum=ffh(Gsqr,N,dummy)\n",
    "\n",
    "#a,H_2site=ff2site(Gsqr,dummy)\n",
    "\n",
    "#np.allclose(Hdum,H_2site)\n",
    "\n",
    "four_fermi_eigenvalues, four_fermi_eigenvectors=sLA.eigh(Hdum)\n",
    "['{:.2f}'.format(i) for i in four_fermi_eigenvalues]\n",
    "plt.plot(four_fermi_eigenvalues,'xk')\n",
    "#plt.plot(a,'^r')"
   ]
  },
  {
   "cell_type": "markdown",
   "metadata": {},
   "source": [
    "# Eigenvector Validity Check"
   ]
  },
  {
   "cell_type": "code",
   "execution_count": 18,
   "metadata": {},
   "outputs": [
    {
     "data": {
      "text/plain": [
       "[<matplotlib.lines.Line2D at 0x7f35615d3220>]"
      ]
     },
     "execution_count": 18,
     "metadata": {},
     "output_type": "execute_result"
    },
    {
     "data": {
      "image/png": "[encoded data removed]",
      "text/plain": [
       "<Figure size 432x288 with 1 Axes>"
      ]
     },
     "metadata": {
      "needs_background": "light"
     },
     "output_type": "display_data"
    }
   ],
   "source": [
    "#spH=sparse.csr_matrix(Hdum)\n",
    "#print(spH)\n",
    "#spEV=sparse.csr_matrix(four_fermi_eigenvectors)\n",
    "#print(\"EV\")\n",
    "#print(spEV)\n",
    "\n",
    "#print(\"loop\")\n",
    "#Hdum.shape\n",
    "#four_fermi_eigenvectors.shape\n",
    "\n",
    "tag=-1\n",
    "for i in range(len(Hdum)):\n",
    "    for j in range(i+1,len(Hdum)):\n",
    "        if np.iscomplex(Hdum[i][j]):\n",
    "            tag=0\n",
    "        if Hdum[i][j] != Hdum[j][i]:\n",
    "            print(\"not symmetric\",i,j,Hdum[i][j],Hdum[j][i])\n",
    "            tag=0\n",
    "    if tag==0:\n",
    "        break\n",
    "        \n",
    "        \n",
    "for i in range(len(four_fermi_eigenvalues)):\n",
    "    assert np.allclose(Hdum @ four_fermi_eigenvectors[:,i] ,\\\n",
    "                four_fermi_eigenvalues[i]*four_fermi_eigenvectors[:,i],atol=1e-3), \"eigenvectors not computed correctly\"\n",
    "\n",
    "plt.plot(four_fermi_eigenvalues,'x')\n",
    "plt.show()\n",
    "plt.close()"
   ]
  },
  {
   "cell_type": "markdown",
   "metadata": {},
   "source": [
    "## Time evolution of quantum state\n",
    "$|\\psi(t)\\rangle=\\hat{U}(t) |\\psi(0)\\rangle = e^{-i \\mathcal{H} t / \\hbar} |\\psi(0)\\rangle\n",
    "=e^{-i \\mathcal{H} t / \\hbar} \\Big( \\sum_j |\\nu_j\\rangle \\langle \\nu_j | \\Big) |\\psi(0)\\rangle\n",
    "= \\sum_j \\alpha_j e^{-i \\lambda_j t / \\hbar} | \\nu_j \\rangle\n",
    "$\n",
    "\n",
    "$\\langle \\psi(0)|\\psi(t)\\rangle\n",
    "= \\sum_j \\alpha_j \\alpha_k^* e^{-i \\lambda_j t / \\hbar}\\langle \\nu_k | \\nu_j \\rangle \n",
    "= \\sum_j |\\alpha_j|^2 e^{-i \\lambda_j t / \\hbar}\n",
    "$\n",
    "\n",
    "Eigenvalues of the Hamiltonian $\\lambda_i$ and eigenvectors $|\\nu_i\\rangle$\n",
    "\n",
    "\n",
    "Assuming convention:  \n",
    "\n",
    "$$ |0\\rangle = \\begin{bmatrix} 1 \\\\ 0 \\end{bmatrix}$$ and $$ |1\\rangle = \\begin{bmatrix} 0 \\\\ 1 \\end{bmatrix}$$.\n",
    "\n",
    "Thus \n",
    "$$|00\\rangle =\\begin{bmatrix} 1 \\\\ 0 \\end{bmatrix} \\otimes \\begin{bmatrix} 1 \\\\ 0 \\end{bmatrix} = \\begin{bmatrix} 1 \\\\0\\\\0\\\\ 0 \\end{bmatrix} $$ "
   ]
  },
  {
   "cell_type": "markdown",
   "metadata": {},
   "source": [
    "\n",
    "$\\langle \\psi(0)|\\psi(t)\\rangle\n",
    "= \\sum_j |\\alpha_j|^2 (\\cos(\\lambda_j t ) -i \\sin(\\lambda_j t ) )\n",
    "$"
   ]
  },
  {
   "cell_type": "markdown",
   "metadata": {},
   "source": [
    "# Ground state: ladder form of Reiner _et._ _el._\n",
    "\n",
    "Two chain of qubits. Upper chains are up spins, lower chains are down spins.\n",
    "\n",
    "Zero state for a 2 site 4-qubit case:\n",
    "\n",
    "$$ |1100\\rangle =\\begin{bmatrix} 0 \\\\ 1 \\end{bmatrix} \\otimes \\begin{bmatrix} 0 \\\\ 1 \\end{bmatrix}\n",
    "\\otimes \\begin{bmatrix} 1 \\\\ 0 \\end{bmatrix}\n",
    "\\otimes \\begin{bmatrix} 1 \\\\ 0 \\end{bmatrix}\n",
    "= \\begin{bmatrix} 0,0,0,0,0,0,0,0,0,0,0,0,1,0,0,0 \\end{bmatrix}^T $$"
   ]
  },
  {
   "cell_type": "code",
   "execution_count": 19,
   "metadata": {},
   "outputs": [
    {
     "data": {
      "text/plain": [
       "array([0, 0, 0, 1, 0, 0, 0, 0, 0, 0, 0, 0, 0, 0, 0, 0])"
      ]
     },
     "execution_count": 19,
     "metadata": {},
     "output_type": "execute_result"
    }
   ],
   "source": [
    "myzero = [1,0]   \n",
    "myone = [0,1]  \n",
    "SVarr_init=np.kron(np.kron(np.kron(myzero,myzero),myone),myone)\n",
    "SVarr_init"
   ]
  },
  {
   "cell_type": "code",
   "execution_count": 20,
   "metadata": {
    "tags": []
   },
   "outputs": [
    {
     "data": {
      "text/plain": [
       "256"
      ]
     },
     "execution_count": 20,
     "metadata": {},
     "output_type": "execute_result"
    },
    {
     "data": {
      "text/plain": [
       "array([0.+0.j, 0.+0.j, 0.+0.j, 0.+0.j, 0.+0.j, 0.+0.j, 0.+0.j, 0.+0.j,\n",
       "       0.+0.j, 0.+0.j, 0.+0.j, 0.+0.j, 0.+0.j, 0.+0.j, 0.+0.j, 0.+0.j,\n",
       "       0.+0.j, 0.+0.j, 0.+0.j, 0.+0.j, 0.+0.j, 0.+0.j, 0.+0.j, 0.+0.j,\n",
       "       0.+0.j, 0.+0.j, 0.+0.j, 0.+0.j, 0.+0.j, 0.+0.j, 0.+0.j, 0.+0.j,\n",
       "       0.+0.j, 0.+0.j, 0.+0.j, 0.+0.j, 0.+0.j, 0.+0.j, 0.+0.j, 0.+0.j,\n",
       "       0.+0.j, 0.+0.j, 0.+0.j, 0.+0.j, 0.+0.j, 0.+0.j, 0.+0.j, 0.+0.j,\n",
       "       0.+0.j, 0.+0.j, 0.+0.j, 0.+0.j, 0.+0.j, 0.+0.j, 0.+0.j, 0.+0.j,\n",
       "       0.+0.j, 0.+0.j, 0.+0.j, 0.+0.j, 0.+0.j, 0.+0.j, 0.+0.j, 0.+0.j,\n",
       "       0.+0.j, 0.+0.j, 0.+0.j, 0.+0.j, 0.+0.j, 0.+0.j, 0.+0.j, 0.+0.j,\n",
       "       0.+0.j, 0.+0.j, 0.+0.j, 0.+0.j, 0.+0.j, 0.+0.j, 0.+0.j, 0.+0.j,\n",
       "       0.+0.j, 0.+0.j, 0.+0.j, 0.+0.j, 0.+0.j, 0.+0.j, 0.+0.j, 0.+0.j,\n",
       "       0.+0.j, 0.+0.j, 0.+0.j, 0.+0.j, 0.+0.j, 0.+0.j, 0.+0.j, 0.+0.j,\n",
       "       0.+0.j, 0.+0.j, 0.+0.j, 0.+0.j, 0.+0.j, 0.+0.j, 0.+0.j, 0.+0.j,\n",
       "       0.+0.j, 0.+0.j, 0.+0.j, 0.+0.j, 0.+0.j, 0.+0.j, 0.+0.j, 0.+0.j,\n",
       "       1.+0.j, 0.+0.j, 0.+0.j, 0.+0.j, 0.+0.j, 0.+0.j, 0.+0.j, 0.+0.j,\n",
       "       0.+0.j, 0.+0.j, 0.+0.j, 0.+0.j, 0.+0.j, 0.+0.j, 0.+0.j, 0.+0.j,\n",
       "       0.+0.j, 0.+0.j, 0.+0.j, 0.+0.j, 0.+0.j, 0.+0.j, 0.+0.j, 0.+0.j,\n",
       "       0.+0.j, 0.+0.j, 0.+0.j, 0.+0.j, 0.+0.j, 0.+0.j, 0.+0.j, 0.+0.j,\n",
       "       0.+0.j, 0.+0.j, 0.+0.j, 0.+0.j, 0.+0.j, 0.+0.j, 0.+0.j, 0.+0.j,\n",
       "       0.+0.j, 0.+0.j, 0.+0.j, 0.+0.j, 0.+0.j, 0.+0.j, 0.+0.j, 0.+0.j,\n",
       "       0.+0.j, 0.+0.j, 0.+0.j, 0.+0.j, 0.+0.j, 0.+0.j, 0.+0.j, 0.+0.j,\n",
       "       0.+0.j, 0.+0.j, 0.+0.j, 0.+0.j, 0.+0.j, 0.+0.j, 0.+0.j, 0.+0.j,\n",
       "       0.+0.j, 0.+0.j, 0.+0.j, 0.+0.j, 0.+0.j, 0.+0.j, 0.+0.j, 0.+0.j,\n",
       "       0.+0.j, 0.+0.j, 0.+0.j, 0.+0.j, 0.+0.j, 0.+0.j, 0.+0.j, 0.+0.j,\n",
       "       0.+0.j, 0.+0.j, 0.+0.j, 0.+0.j, 0.+0.j, 0.+0.j, 0.+0.j, 0.+0.j,\n",
       "       0.+0.j, 0.+0.j, 0.+0.j, 0.+0.j, 0.+0.j, 0.+0.j, 0.+0.j, 0.+0.j,\n",
       "       0.+0.j, 0.+0.j, 0.+0.j, 0.+0.j, 0.+0.j, 0.+0.j, 0.+0.j, 0.+0.j,\n",
       "       0.+0.j, 0.+0.j, 0.+0.j, 0.+0.j, 0.+0.j, 0.+0.j, 0.+0.j, 0.+0.j,\n",
       "       0.+0.j, 0.+0.j, 0.+0.j, 0.+0.j, 0.+0.j, 0.+0.j, 0.+0.j, 0.+0.j,\n",
       "       0.+0.j, 0.+0.j, 0.+0.j, 0.+0.j, 0.+0.j, 0.+0.j, 0.+0.j, 0.+0.j,\n",
       "       0.+0.j, 0.+0.j, 0.+0.j, 0.+0.j, 0.+0.j, 0.+0.j, 0.+0.j, 0.+0.j,\n",
       "       0.+0.j, 0.+0.j, 0.+0.j, 0.+0.j, 0.+0.j, 0.+0.j, 0.+0.j, 0.+0.j])"
      ]
     },
     "execution_count": 20,
     "metadata": {},
     "output_type": "execute_result"
    },
    {
     "data": {
      "text/plain": [
       "0.2"
      ]
     },
     "execution_count": 20,
     "metadata": {},
     "output_type": "execute_result"
    },
    {
     "data": {
      "text/plain": [
       "array([0.+0.j, 0.+0.j, 0.+0.j, 0.+0.j, 0.+0.j, 0.+0.j, 0.+0.j, 0.+0.j,\n",
       "       0.+0.j, 0.+0.j, 0.+0.j, 0.+0.j, 0.+0.j, 0.+0.j, 0.+0.j, 0.+0.j,\n",
       "       0.+0.j, 0.+0.j, 0.+0.j, 0.+0.j, 0.+0.j, 0.+0.j, 0.+0.j, 0.+0.j,\n",
       "       0.+0.j, 0.+0.j, 0.+0.j, 0.+0.j, 0.+0.j, 0.+0.j, 0.+0.j, 0.+0.j,\n",
       "       0.+0.j, 0.+0.j, 0.+0.j, 0.+0.j, 0.+0.j, 0.+0.j, 0.+0.j, 0.+0.j,\n",
       "       0.+0.j, 0.+0.j, 0.+0.j, 0.+0.j, 0.+0.j, 0.+0.j, 0.+0.j, 0.+0.j,\n",
       "       0.+0.j, 0.+0.j, 0.+0.j, 0.+0.j, 0.+0.j, 0.+0.j, 0.+0.j, 0.+0.j,\n",
       "       0.+0.j, 0.+0.j, 0.+0.j, 0.+0.j, 0.+0.j, 0.+0.j, 0.+0.j, 0.+0.j,\n",
       "       0.+0.j, 0.+0.j, 0.+0.j, 0.+0.j, 0.+0.j, 0.+0.j, 0.+0.j, 0.+0.j,\n",
       "       0.+0.j, 0.+0.j, 0.+0.j, 0.+0.j, 0.+0.j, 0.+0.j, 0.+0.j, 0.+0.j,\n",
       "       0.+0.j, 0.+0.j, 0.+0.j, 0.+0.j, 0.+0.j, 0.+0.j, 0.+0.j, 0.+0.j,\n",
       "       0.+0.j, 0.+0.j, 0.+0.j, 0.+0.j, 0.+0.j, 0.+0.j, 0.+0.j, 0.+0.j,\n",
       "       0.+0.j, 0.+0.j, 0.+0.j, 0.+0.j, 0.+0.j, 0.+0.j, 0.+0.j, 0.+0.j,\n",
       "       0.+0.j, 0.+0.j, 0.+0.j, 0.+0.j, 0.+0.j, 0.+0.j, 0.+0.j, 0.+0.j,\n",
       "       1.+0.j, 0.+0.j, 0.+0.j, 0.+0.j, 0.+0.j, 0.+0.j, 0.+0.j, 0.+0.j,\n",
       "       0.+0.j, 0.+0.j, 0.+0.j, 0.+0.j, 0.+0.j, 0.+0.j, 0.+0.j, 0.+0.j,\n",
       "       0.+0.j, 0.+0.j, 0.+0.j, 0.+0.j, 0.+0.j, 0.+0.j, 0.+0.j, 0.+0.j,\n",
       "       0.+0.j, 0.+0.j, 0.+0.j, 0.+0.j, 0.+0.j, 0.+0.j, 0.+0.j, 0.+0.j,\n",
       "       0.+0.j, 0.+0.j, 0.+0.j, 0.+0.j, 0.+0.j, 0.+0.j, 0.+0.j, 0.+0.j,\n",
       "       0.+0.j, 0.+0.j, 0.+0.j, 0.+0.j, 0.+0.j, 0.+0.j, 0.+0.j, 0.+0.j,\n",
       "       0.+0.j, 0.+0.j, 0.+0.j, 0.+0.j, 0.+0.j, 0.+0.j, 0.+0.j, 0.+0.j,\n",
       "       0.+0.j, 0.+0.j, 0.+0.j, 0.+0.j, 0.+0.j, 0.+0.j, 0.+0.j, 0.+0.j,\n",
       "       0.+0.j, 0.+0.j, 0.+0.j, 0.+0.j, 0.+0.j, 0.+0.j, 0.+0.j, 0.+0.j,\n",
       "       0.+0.j, 0.+0.j, 0.+0.j, 0.+0.j, 0.+0.j, 0.+0.j, 0.+0.j, 0.+0.j,\n",
       "       0.+0.j, 0.+0.j, 0.+0.j, 0.+0.j, 0.+0.j, 0.+0.j, 0.+0.j, 0.+0.j,\n",
       "       0.+0.j, 0.+0.j, 0.+0.j, 0.+0.j, 0.+0.j, 0.+0.j, 0.+0.j, 0.+0.j,\n",
       "       0.+0.j, 0.+0.j, 0.+0.j, 0.+0.j, 0.+0.j, 0.+0.j, 0.+0.j, 0.+0.j,\n",
       "       0.+0.j, 0.+0.j, 0.+0.j, 0.+0.j, 0.+0.j, 0.+0.j, 0.+0.j, 0.+0.j,\n",
       "       0.+0.j, 0.+0.j, 0.+0.j, 0.+0.j, 0.+0.j, 0.+0.j, 0.+0.j, 0.+0.j,\n",
       "       0.+0.j, 0.+0.j, 0.+0.j, 0.+0.j, 0.+0.j, 0.+0.j, 0.+0.j, 0.+0.j,\n",
       "       0.+0.j, 0.+0.j, 0.+0.j, 0.+0.j, 0.+0.j, 0.+0.j, 0.+0.j, 0.+0.j,\n",
       "       0.+0.j, 0.+0.j, 0.+0.j, 0.+0.j, 0.+0.j, 0.+0.j, 0.+0.j, 0.+0.j])"
      ]
     },
     "execution_count": 20,
     "metadata": {},
     "output_type": "execute_result"
    },
    {
     "name": "stdout",
     "output_type": "stream",
     "text": [
      "loop\n",
      "alpha_dagger_j alpha_j\n"
     ]
    },
    {
     "data": {
      "text/plain": [
       "[<matplotlib.lines.Line2D at 0x7f356154d0d0>]"
      ]
     },
     "execution_count": 20,
     "metadata": {},
     "output_type": "execute_result"
    },
    {
     "data": {
      "text/plain": [
       "Text(0, 0.5, '$|\\\\langle \\\\psi| \\\\mathrm{e}^{iHt} | \\\\psi \\\\rangle |^2 $')"
      ]
     },
     "execution_count": 20,
     "metadata": {},
     "output_type": "execute_result"
    },
    {
     "data": {
      "text/plain": [
       "Text(0.5, 0, '$t$')"
      ]
     },
     "execution_count": 20,
     "metadata": {},
     "output_type": "execute_result"
    },
    {
     "data": {
      "image/png": "[encoded data removed]",
      "text/plain": [
       "<Figure size 720x432 with 1 Axes>"
      ]
     },
     "metadata": {},
     "output_type": "display_data"
    }
   ],
   "source": [
    "#four_fermi_eigenvectors\n",
    "#for ind,i in enumerate( four_fermi_eigenvectors.T):\n",
    "#   i\n",
    "# create input state\n",
    "mmax\n",
    "instate=np.zeros(mmax,dtype=np.complex_) \n",
    "#|1000> state\n",
    "\n",
    "inputstring=\"112\"\n",
    "instate[int(inputstring)]=1.0\n",
    "\n",
    "instate\n",
    "\n",
    "# number of time steps\n",
    "totalT=10\n",
    "nstep=50\n",
    "#time step\n",
    "delt=totalT/nstep\n",
    "delt\n",
    "\n",
    "\n",
    "alpha=np.zeros(mmax,dtype=np.complex_)\n",
    "#projection to energy eigenstate\n",
    "instate\n",
    "print(\"loop\")\n",
    "for i in range( len(four_fermi_eigenvectors[0]) ):\n",
    "    #four_fermi_eigenvectors[:,i]\n",
    "    alpha[i]=four_fermi_eigenvectors[:,i] @ instate\n",
    "    #alpha[i]\n",
    "\n",
    "    \n",
    "alpha_dagger=np.conjugate(alpha).T\n",
    "coeffbase=np.multiply(alpha,alpha_dagger)\n",
    "print(\"alpha_dagger_j alpha_j\")\n",
    "\n",
    "t=np.arange(0,nstep*delt,delt)\n",
    "y=np.zeros(len(t))\n",
    "coeff=np.zeros( len(t) ,dtype=np.complex_ )\n",
    "for i in range(len(t)):\n",
    "    coeff=np.inner(coeffbase,  np.exp(-1.0j*four_fermi_eigenvalues*t[i] ) )\n",
    "    y[i]= np.abs(coeff)**2\n",
    "    \n",
    "    #coeff[i]\n",
    "    \n",
    "#y=[coeff*coeff  for i in range(len(t))]\n",
    "\n",
    "plt.rc('text',usetex=True)\n",
    "fig, ax = plt.subplots(facecolor='w',figsize=(10,6))\n",
    "ax.tick_params(axis='both', which='major', labelsize=30)\n",
    "plt.plot(t,y,c='k' ) \n",
    "#plt.legend(loc='best',frameon=False,fontsize=25)\n",
    "plt.ylabel(r'$|\\langle \\psi| \\mathrm{e}^{iHt} | \\psi \\rangle |^2 $',fontsize=50)\n",
    "plt.xlabel(r'$t$',fontsize=40)\n",
    "plt.show()\n",
    "plt.close()"
   ]
  },
  {
   "cell_type": "code",
   "execution_count": 21,
   "metadata": {},
   "outputs": [
    {
     "data": {
      "text/plain": [
       "array([0.+0.j, 0.+0.j, 0.+0.j, 0.+0.j, 0.+0.j, 0.+0.j, 0.+0.j, 0.+0.j,\n",
       "       0.+0.j, 0.+0.j, 0.+0.j, 0.+0.j, 0.+0.j, 0.+0.j, 0.+0.j, 0.+0.j,\n",
       "       0.+0.j, 0.+0.j, 0.+0.j, 0.+0.j, 0.+0.j, 0.+0.j, 0.+0.j, 0.+0.j,\n",
       "       0.+0.j, 0.+0.j, 0.+0.j, 0.+0.j, 0.+0.j, 0.+0.j, 0.+0.j, 0.+0.j,\n",
       "       0.+0.j, 0.+0.j, 0.+0.j, 0.+0.j, 0.+0.j, 0.+0.j, 0.+0.j, 0.+0.j,\n",
       "       0.+0.j, 0.+0.j, 0.+0.j, 0.+0.j, 0.+0.j, 0.+0.j, 0.+0.j, 0.+0.j,\n",
       "       0.+0.j, 0.+0.j, 0.+0.j, 0.+0.j, 0.+0.j, 0.+0.j, 0.+0.j, 0.+0.j,\n",
       "       0.+0.j, 0.+0.j, 0.+0.j, 0.+0.j, 0.+0.j, 0.+0.j, 0.+0.j, 0.+0.j,\n",
       "       0.+0.j, 0.+0.j, 0.+0.j, 0.+0.j, 0.+0.j, 0.+0.j, 0.+0.j, 0.+0.j,\n",
       "       0.+0.j, 0.+0.j, 0.+0.j, 0.+0.j, 0.+0.j, 0.+0.j, 0.+0.j, 0.+0.j,\n",
       "       0.+0.j, 0.+0.j, 0.+0.j, 0.+0.j, 0.+0.j, 0.+0.j, 0.+0.j, 0.+0.j,\n",
       "       0.+0.j, 0.+0.j, 0.+0.j, 0.+0.j, 0.+0.j, 0.+0.j, 0.+0.j, 0.+0.j,\n",
       "       0.+0.j, 0.+0.j, 0.+0.j, 0.+0.j, 0.+0.j, 0.+0.j, 0.+0.j, 0.+0.j,\n",
       "       0.+0.j, 0.+0.j, 0.+0.j, 0.+0.j, 0.+0.j, 0.+0.j, 0.+0.j, 0.+0.j,\n",
       "       1.+0.j, 0.+0.j, 0.+0.j, 0.+0.j, 0.+0.j, 0.+0.j, 0.+0.j, 0.+0.j,\n",
       "       0.+0.j, 0.+0.j, 0.+0.j, 0.+0.j, 0.+0.j, 0.+0.j, 0.+0.j, 0.+0.j,\n",
       "       0.+0.j, 0.+0.j, 0.+0.j, 0.+0.j, 0.+0.j, 0.+0.j, 0.+0.j, 0.+0.j,\n",
       "       0.+0.j, 0.+0.j, 0.+0.j, 0.+0.j, 0.+0.j, 0.+0.j, 0.+0.j, 0.+0.j,\n",
       "       0.+0.j, 0.+0.j, 0.+0.j, 0.+0.j, 0.+0.j, 0.+0.j, 0.+0.j, 0.+0.j,\n",
       "       0.+0.j, 0.+0.j, 0.+0.j, 0.+0.j, 0.+0.j, 0.+0.j, 0.+0.j, 0.+0.j,\n",
       "       0.+0.j, 0.+0.j, 0.+0.j, 0.+0.j, 0.+0.j, 0.+0.j, 0.+0.j, 0.+0.j,\n",
       "       0.+0.j, 0.+0.j, 0.+0.j, 0.+0.j, 0.+0.j, 0.+0.j, 0.+0.j, 0.+0.j,\n",
       "       0.+0.j, 0.+0.j, 0.+0.j, 0.+0.j, 0.+0.j, 0.+0.j, 0.+0.j, 0.+0.j,\n",
       "       0.+0.j, 0.+0.j, 0.+0.j, 0.+0.j, 0.+0.j, 0.+0.j, 0.+0.j, 0.+0.j,\n",
       "       0.+0.j, 0.+0.j, 0.+0.j, 0.+0.j, 0.+0.j, 0.+0.j, 0.+0.j, 0.+0.j,\n",
       "       0.+0.j, 0.+0.j, 0.+0.j, 0.+0.j, 0.+0.j, 0.+0.j, 0.+0.j, 0.+0.j,\n",
       "       0.+0.j, 0.+0.j, 0.+0.j, 0.+0.j, 0.+0.j, 0.+0.j, 0.+0.j, 0.+0.j,\n",
       "       0.+0.j, 0.+0.j, 0.+0.j, 0.+0.j, 0.+0.j, 0.+0.j, 0.+0.j, 0.+0.j,\n",
       "       0.+0.j, 0.+0.j, 0.+0.j, 0.+0.j, 0.+0.j, 0.+0.j, 0.+0.j, 0.+0.j,\n",
       "       0.+0.j, 0.+0.j, 0.+0.j, 0.+0.j, 0.+0.j, 0.+0.j, 0.+0.j, 0.+0.j,\n",
       "       0.+0.j, 0.+0.j, 0.+0.j, 0.+0.j, 0.+0.j, 0.+0.j, 0.+0.j, 0.+0.j,\n",
       "       0.+0.j, 0.+0.j, 0.+0.j, 0.+0.j, 0.+0.j, 0.+0.j, 0.+0.j, 0.+0.j])"
      ]
     },
     "execution_count": 21,
     "metadata": {},
     "output_type": "execute_result"
    }
   ],
   "source": [
    "instate"
   ]
  },
  {
   "cell_type": "code",
   "execution_count": 22,
   "metadata": {},
   "outputs": [
    {
     "name": "stdout",
     "output_type": "stream",
     "text": [
      "  (1, 2)\t(-1+0j)\n",
      "  (2, 1)\t(-1+0j)\n",
      "  (2, 4)\t(-1+0j)\n",
      "  (3, 5)\t(-1+0j)\n",
      "  (4, 2)\t(-1+0j)\n",
      "  (4, 8)\t(-1+0j)\n",
      "  (5, 3)\t(-1+0j)\n",
      "  (5, 6)\t(-1+0j)\n",
      "  (5, 9)\t(-1+0j)\n",
      "  (6, 5)\t(-1+0j)\n",
      "  (6, 10)\t(-1+0j)\n",
      "  (7, 11)\t(-1+0j)\n",
      "  (8, 4)\t(-1+0j)\n",
      "  (9, 5)\t(-1+0j)\n",
      "  (9, 10)\t(-1+0j)\n",
      "  (10, 6)\t(-1+0j)\n",
      "  (10, 9)\t(-1+0j)\n",
      "  (10, 12)\t(-1+0j)\n",
      "  (11, 7)\t(-1+0j)\n",
      "  (11, 13)\t(-1+0j)\n",
      "  (12, 10)\t(-1+0j)\n",
      "  (13, 11)\t(-1+0j)\n",
      "  (13, 14)\t(-1+0j)\n",
      "  (14, 13)\t(-1+0j)\n",
      "  (16, 32)\t(1+0j)\n",
      "  :\t:\n",
      "  (246, 245)\t(-1+0j)\n",
      "  (246, 246)\t(4+0j)\n",
      "  (246, 250)\t(-1+0j)\n",
      "  (247, 247)\t(6+0j)\n",
      "  (247, 251)\t(-1+0j)\n",
      "  (248, 244)\t(-1+0j)\n",
      "  (248, 248)\t(2+0j)\n",
      "  (249, 245)\t(-1+0j)\n",
      "  (249, 249)\t(4+0j)\n",
      "  (249, 250)\t(-1+0j)\n",
      "  (250, 246)\t(-1+0j)\n",
      "  (250, 249)\t(-1+0j)\n",
      "  (250, 250)\t(4+0j)\n",
      "  (250, 252)\t(-1+0j)\n",
      "  (251, 247)\t(-1+0j)\n",
      "  (251, 251)\t(6+0j)\n",
      "  (251, 253)\t(-1+0j)\n",
      "  (252, 250)\t(-1+0j)\n",
      "  (252, 252)\t(4+0j)\n",
      "  (253, 251)\t(-1+0j)\n",
      "  (253, 253)\t(6+0j)\n",
      "  (253, 254)\t(-1+0j)\n",
      "  (254, 253)\t(-1+0j)\n",
      "  (254, 254)\t(6+0j)\n",
      "  (255, 255)\t(8+0j)\n"
     ]
    },
    {
     "data": {
      "text/plain": [
       "8"
      ]
     },
     "execution_count": 22,
     "metadata": {},
     "output_type": "execute_result"
    },
    {
     "data": {
      "text/plain": [
       "256"
      ]
     },
     "execution_count": 22,
     "metadata": {},
     "output_type": "execute_result"
    },
    {
     "data": {
      "text/plain": [
       "[<matplotlib.lines.Line2D at 0x7f35b5391400>]"
      ]
     },
     "execution_count": 22,
     "metadata": {},
     "output_type": "execute_result"
    },
    {
     "data": {
      "text/plain": [
       "[<matplotlib.lines.Line2D at 0x7f35b5391850>]"
      ]
     },
     "execution_count": 22,
     "metadata": {},
     "output_type": "execute_result"
    },
    {
     "data": {
      "text/plain": [
       "<matplotlib.legend.Legend at 0x7f35b5391640>"
      ]
     },
     "execution_count": 22,
     "metadata": {},
     "output_type": "execute_result"
    },
    {
     "data": {
      "text/plain": [
       "Text(0, 0.5, '$|\\\\langle \\\\psi| \\\\mathrm{e}^{iHt} | \\\\psi \\\\rangle |^2 $')"
      ]
     },
     "execution_count": 22,
     "metadata": {},
     "output_type": "execute_result"
    },
    {
     "data": {
      "text/plain": [
       "Text(0.5, 0, '$t$')"
      ]
     },
     "execution_count": 22,
     "metadata": {},
     "output_type": "execute_result"
    },
    {
     "data": {
      "image/png": "[encoded data removed]",
      "text/plain": [
       "<Figure size 1440x720 with 1 Axes>"
      ]
     },
     "metadata": {},
     "output_type": "display_data"
    }
   ],
   "source": [
    "#ei=LA.eigh(ham(0.02,1.0,0))\n",
    "ei=LA.eigh(ffh2(Gsqr,N,nq,1) )\n",
    "#ei\n",
    "nq\n",
    "mmax\n",
    "#evolution with correct complex conjugation    \n",
    "def evol(tt):\n",
    "    proj=np.zeros((mmax,mmax))+0.0+0.0j\n",
    "    for uu in range(mmax):\n",
    "        proj+=np.exp(-tt*1.0j*ei[0][uu])*np.outer(ei[1][:,uu],np.conjugate(ei[1][:,uu]))\n",
    "        pass\n",
    "    return proj\n",
    "\n",
    "\n",
    "\n",
    "times1=np.zeros(nstep)\n",
    "meas0=np.zeros(nstep)+0.0j  \n",
    "meas1=np.zeros(nstep)+0.0j  \n",
    "#going through all the time steps\n",
    "for nst in range(nstep):\n",
    "    #time\n",
    "    tt=nst*delt\n",
    "    times1[nst]=tt\n",
    "    #evolution at time tt on instate\n",
    "    wavet=np.dot(evol(tt),instate)\n",
    "    #hermitian conjugate\n",
    "    instatecc=np.conj(np.transpose(instate))\n",
    "    \n",
    "   # projstate0=np.dot(nnocc[0],wavet)\n",
    "   # projstate1=np.dot(nnocc[1],wavet)\n",
    "    meas0[nst]=(np.abs(np.inner(instatecc,wavet)))**2\n",
    "    #meas1[nst]=np.inner(instatecc,projstate1)\n",
    "\n",
    "plt.rc('text',usetex=True)\n",
    "fig, ax = plt.subplots(facecolor='w',figsize=(20,10))\n",
    "ax.tick_params(axis='both', which='major', labelsize=30)\n",
    "plt.plot(times1,np.real(meas0),'^k',ls='none',ms=10,label='Exact v1')\n",
    "plt.plot(t,y,'xb',ms=10,label='Exact v2')\n",
    "plt.legend(loc='best',frameon=False,fontsize=25)\n",
    "plt.ylabel(r'$|\\langle \\psi| \\mathrm{e}^{iHt} | \\psi \\rangle |^2 $',fontsize=50)\n",
    "plt.xlabel(r'$t$',fontsize=40)\n",
    "plt.show()\n",
    "plt.close()"
   ]
  },
  {
   "cell_type": "markdown",
   "metadata": {},
   "source": [
    "### Suzuki-Trotter approximation\n",
    "First to fourth order \n",
    "$$\n",
    "\\begin{gathered}\n",
    "e^{(A+B) t} \\approx\\left(e^{A t / n} e^{B t / n}\\right)^{n}+O(t \\Delta t) \\\\\n",
    "e^{(A+B) t} \\approx\\left(e^{A t / 2 n} e^{B t / n} e^{A t / 2 n}\\right)^{n}+O\\left(t(\\Delta t)^{2}\\right) \\\\\n",
    "e^{(A+B) t} \\approx\\left(e^{\\frac{7}{24} A t / n} e^{\\frac{2}{3} B t / n} e^{\\frac{3}{4} A t / n} e^{\\frac{-2}{3} B t / n} e^{\\frac{-1}{24} A t / n} e^{B t / n}\\right)^{n}+O\\left(t(\\Delta t)^{3}\\right) \\\\\n",
    "e^{(A+B) t} \\approx\\left(\\prod_{i=1}^{5} e^{p_{i} A t / 2 n} e^{p_{i} B t / n} e^{p_{i} A t / 2 n}\\right)^{n}+O\\left(t(\\Delta t)^{4}\\right)\n",
    "\\end{gathered}\n",
    "$$\n",
    "where in the 4 th order equation, the constants are given by:\n",
    "$$\n",
    "p_{1}=p_{2}=p_{4}=p_{5}=\\frac{1}{4-4^{1 / 3}}, \\quad p_{3}=1-4 p_{1}\n",
    "$$"
   ]
  },
  {
   "cell_type": "code",
   "execution_count": 23,
   "metadata": {},
   "outputs": [
    {
     "name": "stdout",
     "output_type": "stream",
     "text": [
      "  (1, 2)\t(-1+0j)\n",
      "  (2, 1)\t(-1+0j)\n",
      "  (2, 4)\t(-1+0j)\n",
      "  (3, 5)\t(-1+0j)\n",
      "  (4, 2)\t(-1+0j)\n",
      "  (4, 8)\t(-1+0j)\n",
      "  (5, 3)\t(-1+0j)\n",
      "  (5, 6)\t(-1+0j)\n",
      "  (5, 9)\t(-1+0j)\n",
      "  (6, 5)\t(-1+0j)\n",
      "  (6, 10)\t(-1+0j)\n",
      "  (7, 11)\t(-1+0j)\n",
      "  (8, 4)\t(-1+0j)\n",
      "  (9, 5)\t(-1+0j)\n",
      "  (9, 10)\t(-1+0j)\n",
      "  (10, 6)\t(-1+0j)\n",
      "  (10, 9)\t(-1+0j)\n",
      "  (10, 12)\t(-1+0j)\n",
      "  (11, 7)\t(-1+0j)\n",
      "  (11, 13)\t(-1+0j)\n",
      "  (12, 10)\t(-1+0j)\n",
      "  (13, 11)\t(-1+0j)\n",
      "  (13, 14)\t(-1+0j)\n",
      "  (14, 13)\t(-1+0j)\n",
      "  (16, 32)\t(1+0j)\n",
      "  :\t:\n",
      "  (239, 223)\t(1+0j)\n",
      "  (241, 242)\t(-1+0j)\n",
      "  (242, 241)\t(-1+0j)\n",
      "  (242, 244)\t(-1+0j)\n",
      "  (243, 245)\t(-1+0j)\n",
      "  (244, 242)\t(-1+0j)\n",
      "  (244, 248)\t(-1+0j)\n",
      "  (245, 243)\t(-1+0j)\n",
      "  (245, 246)\t(-1+0j)\n",
      "  (245, 249)\t(-1+0j)\n",
      "  (246, 245)\t(-1+0j)\n",
      "  (246, 250)\t(-1+0j)\n",
      "  (247, 251)\t(-1+0j)\n",
      "  (248, 244)\t(-1+0j)\n",
      "  (249, 245)\t(-1+0j)\n",
      "  (249, 250)\t(-1+0j)\n",
      "  (250, 246)\t(-1+0j)\n",
      "  (250, 249)\t(-1+0j)\n",
      "  (250, 252)\t(-1+0j)\n",
      "  (251, 247)\t(-1+0j)\n",
      "  (251, 253)\t(-1+0j)\n",
      "  (252, 250)\t(-1+0j)\n",
      "  (253, 251)\t(-1+0j)\n",
      "  (253, 254)\t(-1+0j)\n",
      "  (254, 253)\t(-1+0j)\n",
      "  (17, 17)\t(2+0j)\n",
      "  (19, 19)\t(2+0j)\n",
      "  (21, 21)\t(2+0j)\n",
      "  (23, 23)\t(2+0j)\n",
      "  (25, 25)\t(2+0j)\n",
      "  (27, 27)\t(2+0j)\n",
      "  (29, 29)\t(2+0j)\n",
      "  (31, 31)\t(2+0j)\n",
      "  (34, 34)\t(2+0j)\n",
      "  (35, 35)\t(2+0j)\n",
      "  (38, 38)\t(2+0j)\n",
      "  (39, 39)\t(2+0j)\n",
      "  (42, 42)\t(2+0j)\n",
      "  (43, 43)\t(2+0j)\n",
      "  (46, 46)\t(2+0j)\n",
      "  (47, 47)\t(2+0j)\n",
      "  (49, 49)\t(2+0j)\n",
      "  (50, 50)\t(2+0j)\n",
      "  (51, 51)\t(4+0j)\n",
      "  (53, 53)\t(2+0j)\n",
      "  (54, 54)\t(2+0j)\n",
      "  (55, 55)\t(4+0j)\n",
      "  (57, 57)\t(2+0j)\n",
      "  (58, 58)\t(2+0j)\n",
      "  (59, 59)\t(4+0j)\n",
      "  :\t:\n",
      "  (230, 230)\t(4+0j)\n",
      "  (231, 231)\t(4+0j)\n",
      "  (232, 232)\t(2+0j)\n",
      "  (233, 233)\t(2+0j)\n",
      "  (234, 234)\t(4+0j)\n",
      "  (235, 235)\t(4+0j)\n",
      "  (236, 236)\t(4+0j)\n",
      "  (237, 237)\t(4+0j)\n",
      "  (238, 238)\t(6+0j)\n",
      "  (239, 239)\t(6+0j)\n",
      "  (241, 241)\t(2+0j)\n",
      "  (242, 242)\t(2+0j)\n",
      "  (243, 243)\t(4+0j)\n",
      "  (244, 244)\t(2+0j)\n",
      "  (245, 245)\t(4+0j)\n",
      "  (246, 246)\t(4+0j)\n",
      "  (247, 247)\t(6+0j)\n",
      "  (248, 248)\t(2+0j)\n",
      "  (249, 249)\t(4+0j)\n",
      "  (250, 250)\t(4+0j)\n",
      "  (251, 251)\t(6+0j)\n",
      "  (252, 252)\t(4+0j)\n",
      "  (253, 253)\t(6+0j)\n",
      "  (254, 254)\t(6+0j)\n",
      "  (255, 255)\t(8+0j)\n"
     ]
    },
    {
     "data": {
      "text/plain": [
       "[<matplotlib.lines.Line2D at 0x7f35b47201c0>]"
      ]
     },
     "execution_count": 23,
     "metadata": {},
     "output_type": "execute_result"
    },
    {
     "data": {
      "text/plain": [
       "[<matplotlib.lines.Line2D at 0x7f35b4ae13d0>]"
      ]
     },
     "execution_count": 23,
     "metadata": {},
     "output_type": "execute_result"
    },
    {
     "data": {
      "text/plain": [
       "<matplotlib.legend.Legend at 0x7f35b4ae11c0>"
      ]
     },
     "execution_count": 23,
     "metadata": {},
     "output_type": "execute_result"
    },
    {
     "data": {
      "text/plain": [
       "Text(0, 0.5, '$|\\\\langle \\\\psi|\\\\mathrm{e}^{iHt} | \\\\psi \\\\rangle |^2 $')"
      ]
     },
     "execution_count": 23,
     "metadata": {},
     "output_type": "execute_result"
    },
    {
     "data": {
      "text/plain": [
       "Text(0.5, 0, '$t$')"
      ]
     },
     "execution_count": 23,
     "metadata": {},
     "output_type": "execute_result"
    },
    {
     "data": {
      "image/png": "[encoded data removed]",
      "text/plain": [
       "<Figure size 1440x720 with 1 Axes>"
      ]
     },
     "metadata": {},
     "output_type": "display_data"
    }
   ],
   "source": [
    "# First Order Trotter version\n",
    "\n",
    "\n",
    "ei1=LA.eigh(ffh2(0,N,nq,1) )\n",
    "#evolution with INcorrect complex conjugation    \n",
    "def evol1(tt):\n",
    "    proj=np.zeros((mmax,mmax))+0.0+0.0j\n",
    "    for uu in range(mmax):\n",
    "        proj+=np.exp(-tt*1.0j*ei1[0][uu])*np.outer(np.conjugate(ei1[1][:,uu]),ei1[1][:,uu])\n",
    "        pass\n",
    "    return proj\n",
    "\n",
    "ei2=LA.eigh(ffh2(Gsqr,N,nq,0) )\n",
    "#evolution with INcorrect complex conjugation    \n",
    "def evol2(tt):\n",
    "    proj=np.zeros((mmax,mmax))+0.0+0.0j\n",
    "    for uu in range(mmax):\n",
    "        proj+=np.exp(-tt*1.0j*ei2[0][uu])*np.outer(np.conjugate(ei2[1][:,uu]),ei2[1][:,uu])\n",
    "        pass\n",
    "    return proj\n",
    "\n",
    "trotstep=np.matmul(evol1(delt),evol2(delt))\n",
    "times2=np.zeros(nstep)\n",
    "meas2=np.zeros(nstep)+0.0j  \n",
    "#going through all the Trotter steps\n",
    "\n",
    "\n",
    "\n",
    "wavet=instate\n",
    "instatecc=np.conj(np.transpose(wavet))\n",
    "for nst in range(nstep):\n",
    "    #time\n",
    "    tt=nst*delt\n",
    "    times2[nst]=tt\n",
    "    \n",
    "    #projstate=np.dot(nnocc[0],wavet)\n",
    "    #meas2[nst]=np.inner(instatecc,projstate)\n",
    "    \n",
    "    #evolution at time tt on instate\n",
    "    wavet=np.dot(trotstep,wavet)\n",
    "    meas2[nst]=(np.abs(np.inner(instatecc,wavet)))**2\n",
    "\n",
    "\n",
    "#plt.figure(figsize=(2.5,3))\n",
    "plt.rc('text',usetex=True)\n",
    "fig, ax = plt.subplots(facecolor='w',figsize=(20,10))\n",
    "ax.tick_params(axis='both', which='major', labelsize=30)\n",
    "plt.plot(times1,np.real(meas0),'xk',ms=10,label='Exact')\n",
    "plt.plot(times2,np.real(meas2),'^b',ms=10,label='1st order Trotter')\n",
    "plt.legend(loc='best',frameon=False,fontsize=25)\n",
    "plt.ylabel(r'$|\\langle \\psi|\\mathrm{e}^{iHt} | \\psi \\rangle |^2 $',fontsize=50)\n",
    "plt.xlabel(r'$t$',fontsize=40)\n",
    "plt.show()\n",
    "plt.close()\n",
    "#instate"
   ]
  },
  {
   "cell_type": "code",
   "execution_count": 24,
   "metadata": {},
   "outputs": [
    {
     "name": "stdout",
     "output_type": "stream",
     "text": [
      "  (1, 2)\t(-0.5+0j)\n",
      "  (2, 1)\t(-0.5+0j)\n",
      "  (2, 4)\t(-0.5+0j)\n",
      "  (3, 5)\t(-0.5+0j)\n",
      "  (4, 2)\t(-0.5+0j)\n",
      "  (4, 8)\t(-0.5+0j)\n",
      "  (5, 3)\t(-0.5+0j)\n",
      "  (5, 6)\t(-0.5+0j)\n",
      "  (5, 9)\t(-0.5+0j)\n",
      "  (6, 5)\t(-0.5+0j)\n",
      "  (6, 10)\t(-0.5+0j)\n",
      "  (7, 11)\t(-0.5+0j)\n",
      "  (8, 4)\t(-0.5+0j)\n",
      "  (9, 5)\t(-0.5+0j)\n",
      "  (9, 10)\t(-0.5+0j)\n",
      "  (10, 6)\t(-0.5+0j)\n",
      "  (10, 9)\t(-0.5+0j)\n",
      "  (10, 12)\t(-0.5+0j)\n",
      "  (11, 7)\t(-0.5+0j)\n",
      "  (11, 13)\t(-0.5+0j)\n",
      "  (12, 10)\t(-0.5+0j)\n",
      "  (13, 11)\t(-0.5+0j)\n",
      "  (13, 14)\t(-0.5+0j)\n",
      "  (14, 13)\t(-0.5+0j)\n",
      "  (16, 32)\t(0.5+0j)\n",
      "  :\t:\n",
      "  (239, 223)\t(0.5+0j)\n",
      "  (241, 242)\t(-0.5+0j)\n",
      "  (242, 241)\t(-0.5+0j)\n",
      "  (242, 244)\t(-0.5+0j)\n",
      "  (243, 245)\t(-0.5+0j)\n",
      "  (244, 242)\t(-0.5+0j)\n",
      "  (244, 248)\t(-0.5+0j)\n",
      "  (245, 243)\t(-0.5+0j)\n",
      "  (245, 246)\t(-0.5+0j)\n",
      "  (245, 249)\t(-0.5+0j)\n",
      "  (246, 245)\t(-0.5+0j)\n",
      "  (246, 250)\t(-0.5+0j)\n",
      "  (247, 251)\t(-0.5+0j)\n",
      "  (248, 244)\t(-0.5+0j)\n",
      "  (249, 245)\t(-0.5+0j)\n",
      "  (249, 250)\t(-0.5+0j)\n",
      "  (250, 246)\t(-0.5+0j)\n",
      "  (250, 249)\t(-0.5+0j)\n",
      "  (250, 252)\t(-0.5+0j)\n",
      "  (251, 247)\t(-0.5+0j)\n",
      "  (251, 253)\t(-0.5+0j)\n",
      "  (252, 250)\t(-0.5+0j)\n",
      "  (253, 251)\t(-0.5+0j)\n",
      "  (253, 254)\t(-0.5+0j)\n",
      "  (254, 253)\t(-0.5+0j)\n",
      "  (17, 17)\t(2+0j)\n",
      "  (19, 19)\t(2+0j)\n",
      "  (21, 21)\t(2+0j)\n",
      "  (23, 23)\t(2+0j)\n",
      "  (25, 25)\t(2+0j)\n",
      "  (27, 27)\t(2+0j)\n",
      "  (29, 29)\t(2+0j)\n",
      "  (31, 31)\t(2+0j)\n",
      "  (34, 34)\t(2+0j)\n",
      "  (35, 35)\t(2+0j)\n",
      "  (38, 38)\t(2+0j)\n",
      "  (39, 39)\t(2+0j)\n",
      "  (42, 42)\t(2+0j)\n",
      "  (43, 43)\t(2+0j)\n",
      "  (46, 46)\t(2+0j)\n",
      "  (47, 47)\t(2+0j)\n",
      "  (49, 49)\t(2+0j)\n",
      "  (50, 50)\t(2+0j)\n",
      "  (51, 51)\t(4+0j)\n",
      "  (53, 53)\t(2+0j)\n",
      "  (54, 54)\t(2+0j)\n",
      "  (55, 55)\t(4+0j)\n",
      "  (57, 57)\t(2+0j)\n",
      "  (58, 58)\t(2+0j)\n",
      "  (59, 59)\t(4+0j)\n",
      "  :\t:\n",
      "  (230, 230)\t(4+0j)\n",
      "  (231, 231)\t(4+0j)\n",
      "  (232, 232)\t(2+0j)\n",
      "  (233, 233)\t(2+0j)\n",
      "  (234, 234)\t(4+0j)\n",
      "  (235, 235)\t(4+0j)\n",
      "  (236, 236)\t(4+0j)\n",
      "  (237, 237)\t(4+0j)\n",
      "  (238, 238)\t(6+0j)\n",
      "  (239, 239)\t(6+0j)\n",
      "  (241, 241)\t(2+0j)\n",
      "  (242, 242)\t(2+0j)\n",
      "  (243, 243)\t(4+0j)\n",
      "  (244, 244)\t(2+0j)\n",
      "  (245, 245)\t(4+0j)\n",
      "  (246, 246)\t(4+0j)\n",
      "  (247, 247)\t(6+0j)\n",
      "  (248, 248)\t(2+0j)\n",
      "  (249, 249)\t(4+0j)\n",
      "  (250, 250)\t(4+0j)\n",
      "  (251, 251)\t(6+0j)\n",
      "  (252, 252)\t(4+0j)\n",
      "  (253, 253)\t(6+0j)\n",
      "  (254, 254)\t(6+0j)\n",
      "  (255, 255)\t(8+0j)\n"
     ]
    },
    {
     "data": {
      "text/plain": [
       "[<matplotlib.lines.Line2D at 0x7f35b4a5d910>]"
      ]
     },
     "execution_count": 24,
     "metadata": {},
     "output_type": "execute_result"
    },
    {
     "data": {
      "text/plain": [
       "[<matplotlib.lines.Line2D at 0x7f35b4a5dd60>]"
      ]
     },
     "execution_count": 24,
     "metadata": {},
     "output_type": "execute_result"
    },
    {
     "data": {
      "text/plain": [
       "[<matplotlib.lines.Line2D at 0x7f35b4a660a0>]"
      ]
     },
     "execution_count": 24,
     "metadata": {},
     "output_type": "execute_result"
    },
    {
     "data": {
      "text/plain": [
       "<matplotlib.legend.Legend at 0x7f35b5361eb0>"
      ]
     },
     "execution_count": 24,
     "metadata": {},
     "output_type": "execute_result"
    },
    {
     "data": {
      "text/plain": [
       "Text(0, 0.5, '$|\\\\langle \\\\psi| \\\\mathrm{e}^{iHt}  | \\\\psi \\\\rangle |^2 $')"
      ]
     },
     "execution_count": 24,
     "metadata": {},
     "output_type": "execute_result"
    },
    {
     "data": {
      "text/plain": [
       "Text(0.5, 0, '$t$')"
      ]
     },
     "execution_count": 24,
     "metadata": {},
     "output_type": "execute_result"
    },
    {
     "data": {
      "text/plain": [
       "Text(0.13, 0.9, '$L$=4')"
      ]
     },
     "execution_count": 24,
     "metadata": {},
     "output_type": "execute_result"
    },
    {
     "data": {
      "text/plain": [
       "Text(0.13, 0.8, '$Q$=8')"
      ]
     },
     "execution_count": 24,
     "metadata": {},
     "output_type": "execute_result"
    },
    {
     "data": {
      "text/plain": [
       "Text(0.13, 0.7, '$G^2$=2.0')"
      ]
     },
     "execution_count": 24,
     "metadata": {},
     "output_type": "execute_result"
    },
    {
     "data": {
      "text/plain": [
       "Text(0.13, 0.6, '$\\\\delta t$=0.20')"
      ]
     },
     "execution_count": 24,
     "metadata": {},
     "output_type": "execute_result"
    },
    {
     "ename": "TypeError",
     "evalue": "can only concatenate str (not \"int\") to str",
     "output_type": "error",
     "traceback": [
      "\u001b[0;31m---------------------------------------------------------------------------\u001b[0m",
      "\u001b[0;31mTypeError\u001b[0m                                 Traceback (most recent call last)",
      "\u001b[0;32m<ipython-input-24-459f1124df2f>\u001b[0m in \u001b[0;36m<module>\u001b[0;34m\u001b[0m\n\u001b[1;32m     50\u001b[0m \u001b[0mplt\u001b[0m\u001b[0;34m.\u001b[0m\u001b[0mannotate\u001b[0m\u001b[0;34m(\u001b[0m\u001b[0;34mr'$\\delta t$=%0.2f'\u001b[0m\u001b[0;34m%\u001b[0m\u001b[0mdelt\u001b[0m \u001b[0;34m,\u001b[0m \u001b[0mxy\u001b[0m\u001b[0;34m=\u001b[0m\u001b[0;34m(\u001b[0m\u001b[0;36m0.13\u001b[0m\u001b[0;34m,\u001b[0m \u001b[0;36m0.6\u001b[0m\u001b[0;34m)\u001b[0m\u001b[0;34m,\u001b[0m \u001b[0mxycoords\u001b[0m\u001b[0;34m=\u001b[0m\u001b[0;34m'axes fraction'\u001b[0m\u001b[0;34m,\u001b[0m\u001b[0mfontsize\u001b[0m\u001b[0;34m=\u001b[0m\u001b[0;36m50\u001b[0m\u001b[0;34m)\u001b[0m\u001b[0;34m\u001b[0m\u001b[0;34m\u001b[0m\u001b[0m\n\u001b[1;32m     51\u001b[0m \u001b[0;31m#plt.plot(times2,np.real(meas2-meas1))\u001b[0m\u001b[0;34m\u001b[0m\u001b[0;34m\u001b[0m\u001b[0m\n\u001b[0;32m---> 52\u001b[0;31m \u001b[0mplt\u001b[0m\u001b[0;34m.\u001b[0m\u001b[0msavefig\u001b[0m\u001b[0;34m(\u001b[0m\u001b[0;34m\"L\"\u001b[0m\u001b[0;34m+\u001b[0m\u001b[0mN\u001b[0m\u001b[0;34m+\u001b[0m\u001b[0;34m\".classical.\"\u001b[0m\u001b[0;34m+\u001b[0m\u001b[0minputstring\u001b[0m\u001b[0;34m+\u001b[0m\u001b[0;34m\".png\"\u001b[0m\u001b[0;34m,\u001b[0m\u001b[0mbbox_inches\u001b[0m\u001b[0;34m=\u001b[0m\u001b[0;34m'tight'\u001b[0m\u001b[0;34m)\u001b[0m\u001b[0;34m\u001b[0m\u001b[0;34m\u001b[0m\u001b[0m\n\u001b[0m\u001b[1;32m     53\u001b[0m \u001b[0mplt\u001b[0m\u001b[0;34m.\u001b[0m\u001b[0mshow\u001b[0m\u001b[0;34m(\u001b[0m\u001b[0;34m)\u001b[0m\u001b[0;34m\u001b[0m\u001b[0;34m\u001b[0m\u001b[0m\n\u001b[1;32m     54\u001b[0m \u001b[0mplt\u001b[0m\u001b[0;34m.\u001b[0m\u001b[0mclose\u001b[0m\u001b[0;34m(\u001b[0m\u001b[0;34m)\u001b[0m\u001b[0;34m\u001b[0m\u001b[0;34m\u001b[0m\u001b[0m\n",
      "\u001b[0;31mTypeError\u001b[0m: can only concatenate str (not \"int\") to str"
     ]
    },
    {
     "data": {
      "image/png": "[encoded data removed]",
      "text/plain": [
       "<Figure size 1440x720 with 1 Axes>"
      ]
     },
     "metadata": {},
     "output_type": "display_data"
    }
   ],
   "source": [
    "ei1=LA.eigh(ffh2(0,N,nq,0.5) )\n",
    "#evolution with INcorrect complex conjugation    \n",
    "def evol1(tt):\n",
    "    proj=np.zeros((mmax,mmax))+0.0+0.0j\n",
    "    for uu in range(mmax):\n",
    "        proj+=np.exp(-tt*1.0j*ei1[0][uu])*np.outer(np.conjugate(ei1[1][:,uu]),ei1[1][:,uu])\n",
    "        pass\n",
    "    return proj\n",
    "ei2=LA.eigh(ffh2(Gsqr,N,nq,0) )\n",
    "#evolution with INcorrect complex conjugation    \n",
    "def evol2(tt):\n",
    "    proj=np.zeros((mmax,mmax))+0.0+0.0j\n",
    "    for uu in range(mmax):\n",
    "        proj+=np.exp(-tt*1.0j*ei2[0][uu])*np.outer(np.conjugate(ei2[1][:,uu]),ei2[1][:,uu])\n",
    "        pass\n",
    "    return proj\n",
    "trotstep=np.matmul(np.matmul(evol1(delt),evol2(delt)),evol1(delt))\n",
    "times2=np.zeros(nstep)\n",
    "meas3=np.zeros(nstep)+0.0j  \n",
    "#going through all the Trotter steps\n",
    "\n",
    "wavet=instate\n",
    "instatecc=np.conj(np.transpose(wavet))\n",
    "for nst in range(nstep):\n",
    "    #time\n",
    "    tt=nst*delt\n",
    "    times2[nst]=tt\n",
    "    \n",
    "    #projstate=np.dot(nnocc[0],wavet)\n",
    "    #meas2[nst]=np.inner(instatecc,projstate)\n",
    "    \n",
    "    #evolution at time tt on instate\n",
    "    wavet=np.dot(trotstep,wavet)\n",
    "    meas3[nst]=(np.abs(np.inner(instatecc,wavet)))**2\n",
    "\n",
    "plt.rc('text',usetex=True)\n",
    "fig, ax = plt.subplots(facecolor='w',figsize=(20,10))\n",
    "ax.tick_params(axis='both', which='major', labelsize=50)\n",
    "ax.minorticks_on()\n",
    "#plt.figure(figsize=(20,10),facecolor=\"w\")\n",
    "plt.plot(times1,np.real(meas0),'xk', ls='--',ms=10,label='Exact')\n",
    "plt.plot(times2,np.real(meas2),'^b',ls='--',ms=10,label='1st order Trotter')\n",
    "plt.plot(times2,np.real(meas3),'vr',ls='--',ms=10,label='2nd order Trotter')\n",
    "plt.legend(loc='best',frameon=False,fontsize=20)\n",
    "plt.ylabel(r'$|\\langle \\psi| \\mathrm{e}^{iHt}  | \\psi \\rangle |^2 $',fontsize=50)\n",
    "plt.xlabel(r'$t$',fontsize=40)\n",
    "plt.annotate(r'$L$=%d'%N , xy=(0.13, 0.9), xycoords='axes fraction',fontsize=50)\n",
    "plt.annotate(r'$Q$=%d'%nq , xy=(0.13, 0.8), xycoords='axes fraction',fontsize=50)\n",
    "plt.annotate(r'$G^2$=%0.1f'%Gsqr , xy=(0.13, 0.7), xycoords='axes fraction',fontsize=50)\n",
    "plt.annotate(r'$\\delta t$=%0.2f'%delt , xy=(0.13, 0.6), xycoords='axes fraction',fontsize=50)\n",
    "#plt.plot(times2,np.real(meas2-meas1))\n",
    "plt.savefig(\"L\"+N+\".classical.\"+inputstring+\".png\",bbox_inches='tight')\n",
    "plt.show()\n",
    "plt.close()\n"
   ]
  },
  {
   "cell_type": "code",
   "execution_count": 26,
   "metadata": {},
   "outputs": [
    {
     "data": {
      "text/plain": [
       "0.2"
      ]
     },
     "execution_count": 26,
     "metadata": {},
     "output_type": "execute_result"
    },
    {
     "name": "stdout",
     "output_type": "stream",
     "text": [
      "0.00      0.96\n",
      "0.20      0.85\n",
      "0.40      0.69\n",
      "0.60      0.51\n",
      "0.80      0.33\n",
      "1.00      0.19\n",
      "1.20      0.09\n",
      "1.40      0.03\n",
      "1.60      0.00\n",
      "1.80      0.00\n",
      "2.00      0.01\n",
      "2.20      0.02\n",
      "2.40      0.03\n",
      "2.60      0.03\n",
      "2.80      0.03\n",
      "3.00      0.03\n",
      "3.20      0.03\n",
      "3.40      0.04\n",
      "3.60      0.05\n",
      "3.80      0.09\n",
      "4.00      0.14\n",
      "4.20      0.23\n",
      "4.40      0.34\n",
      "4.60      0.47\n",
      "4.80      0.62\n",
      "5.00      0.75\n",
      "5.20      0.85\n",
      "5.40      0.89\n",
      "5.60      0.86\n",
      "5.80      0.77\n",
      "6.00      0.62\n",
      "6.20      0.44\n",
      "6.40      0.26\n",
      "6.60      0.12\n",
      "6.80      0.03\n",
      "7.00      0.00\n",
      "7.20      0.02\n",
      "7.40      0.07\n",
      "7.60      0.13\n",
      "7.80      0.18\n",
      "8.00      0.21\n",
      "8.20      0.23\n",
      "8.40      0.22\n",
      "8.60      0.20\n",
      "8.80      0.18\n",
      "9.00      0.17\n",
      "9.20      0.16\n",
      "9.40      0.17\n",
      "9.60      0.19\n",
      "9.80      0.22\n"
     ]
    }
   ],
   "source": [
    "delt\n",
    "for i in range(len(times1)):\n",
    "    print(\"%0.2f      %0.2f\" %(times1[i],np.real(meas2)[i]) )\n",
    "\n",
    "df=pd.DataFrame(np.array([times1,np.real(meas0)]).T )\n",
    "df.to_csv(\"L\"+str(N)+\"_data_exact_\"+inputstring,sep='\\t',index=False,header=None)\n",
    "\n",
    "df=pd.DataFrame(np.array([times1,np.real(meas2)]).T )\n",
    "df.to_csv(\"L\"+str(N)+\"_data_Trotter_\"+inputstring,sep='\\t',index=False,header=None)"
   ]
  },
  {
   "cell_type": "markdown",
   "metadata": {},
   "source": [
    "# EPFL application Hamiltonian\n",
    "\n",
    "$H= \\sigma_z (0) \\sigma_z (1) -\\sigma_y (1) \\sigma_y (2) -\\sigma_x (2) \\sigma_x (0)$"
   ]
  },
  {
   "cell_type": "code",
   "execution_count": null,
   "metadata": {},
   "outputs": [],
   "source": [
    "EPFL_H= sigma_creator(3,0,2) @ sigma_creator(3,1,2) -sigma_creator(3,1,1) @ sigma_creator(3,2,1) -sigma_creator(3,2,0) @ sigma_creator(3,0,0)\n",
    "\n",
    "x,y=sLA.eigh(EPFL_H)\n",
    "x\n",
    "np.min(x)*np.max(x)\n",
    "\n",
    "plt.plot(x,'xk')\n",
    "plt.show()"
   ]
  }
 ],
 "metadata": {
  "kernelspec": {
   "display_name": "Python 3",
   "language": "python",
   "name": "python3"
  },
  "language_info": {
   "codemirror_mode": {
    "name": "ipython",
    "version": 3
   },
   "file_extension": ".py",
   "mimetype": "text/x-python",
   "name": "python",
   "nbconvert_exporter": "python",
   "pygments_lexer": "ipython3",
   "version": "3.9.7"
  }
 },
 "nbformat": 4,
 "nbformat_minor": 4
}
