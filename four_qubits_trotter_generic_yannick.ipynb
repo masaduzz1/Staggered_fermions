{
 "cells": [
  {
   "cell_type": "code",
   "execution_count": 2,
   "metadata": {},
   "outputs": [],
   "source": [
    "#import usual libraries\n",
    "import numpy as np\n",
    "import matplotlib as mpl\n",
    "import matplotlib.pyplot as plt\n",
    "%matplotlib inline\n",
    "from numpy import linalg as LA\n",
    "from IPython.core.interactiveshell import InteractiveShell\n",
    "InteractiveShell.ast_node_interactivity = \"all\""
   ]
  },
  {
   "cell_type": "code",
   "execution_count": 3,
   "metadata": {},
   "outputs": [],
   "source": [
    "#list of powers of 2 in decreasing order starting at 2**nqbits-1\n",
    "def pow2(nqbits):\n",
    "    return (2**(nqbits-1-np.arange(nqbits)))"
   ]
  },
  {
   "cell_type": "code",
   "execution_count": 4,
   "metadata": {},
   "outputs": [
    {
     "data": {
      "text/plain": [
       "array([2, 1])"
      ]
     },
     "execution_count": 4,
     "metadata": {},
     "output_type": "execute_result"
    }
   ],
   "source": [
    "pow2(2)"
   ]
  },
  {
   "cell_type": "code",
   "execution_count": 7,
   "metadata": {},
   "outputs": [],
   "source": [
    "#binary decompositions with nqbits digits\n",
    "def bindigits(integer,nqbits):\n",
    "    yy=np.zeros(nqbits,dtype=np.int32) #binary decomposition of integer with nqbit digits\n",
    "    for ff in range(nqbits):\n",
    "        yy[ff]=integer//(2**(nqbits-1-ff))\n",
    "        print(yy[ff])\n",
    "        integer=integer%(2**(nqbits-1-ff))\n",
    "        #print(integer)\n",
    "        pass\n",
    "    return yy"
   ]
  },
  {
   "cell_type": "code",
   "execution_count": 8,
   "metadata": {},
   "outputs": [
    {
     "name": "stdout",
     "output_type": "stream",
     "text": [
      "1\n",
      "1\n",
      "1\n",
      "1\n"
     ]
    },
    {
     "data": {
      "text/plain": [
       "array([1, 1, 1, 1], dtype=int32)"
      ]
     },
     "execution_count": 8,
     "metadata": {},
     "output_type": "execute_result"
    }
   ],
   "source": [
    "bindigits(15,4)"
   ]
  },
  {
   "cell_type": "code",
   "execution_count": 9,
   "metadata": {},
   "outputs": [
    {
     "name": "stdout",
     "output_type": "stream",
     "text": [
      "0\n",
      "0\n",
      "0\n",
      "1\n",
      "1\n",
      "0\n",
      "1\n",
      "1\n"
     ]
    }
   ],
   "source": [
    "#making the sigma matrices\n",
    "#at this point the number of qubits nq is fixed\n",
    "nq=2\n",
    "mmax=2**nq\n",
    "#initializing sigma_x at ns locations matrix to 0\n",
    "#sigmax=np.zeros((ns,mmax,mmax))\n",
    "sigmax=np.zeros((nq,mmax,mmax))\n",
    "#initializing sigma_z at ns locations matrix to 0\n",
    "sigmaz=np.zeros((nq,mmax,mmax))\n",
    "\n",
    "ident=np.zeros((mmax,mmax))\n",
    "for mm in range(mmax):\n",
    "    ident[mm,mm]=1.0\n",
    "    yy=bindigits(mm,nq)\n",
    "    for hh in range(nq):\n",
    "        flyy=np.array(yy)\n",
    "        flyy[hh]=(yy[hh]+1)%2\n",
    "        reconfl=np.inner(flyy,pow2(nq))\n",
    "        sigmax[hh,reconfl,mm]=1\n",
    "        sigmaz[hh,mm,mm]=(1-2*yy[hh])\n",
    "        pass"
   ]
  },
  {
   "cell_type": "code",
   "execution_count": 14,
   "metadata": {},
   "outputs": [
    {
     "data": {
      "text/plain": [
       "True"
      ]
     },
     "execution_count": 14,
     "metadata": {},
     "output_type": "execute_result"
    },
    {
     "data": {
      "text/plain": [
       "True"
      ]
     },
     "execution_count": 14,
     "metadata": {},
     "output_type": "execute_result"
    },
    {
     "data": {
      "text/plain": [
       "True"
      ]
     },
     "execution_count": 14,
     "metadata": {},
     "output_type": "execute_result"
    },
    {
     "data": {
      "text/plain": [
       "True"
      ]
     },
     "execution_count": 14,
     "metadata": {},
     "output_type": "execute_result"
    },
    {
     "name": "stdout",
     "output_type": "stream",
     "text": [
      "1\n",
      "1\n",
      "1\n"
     ]
    },
    {
     "data": {
      "text/plain": [
       "array([1, 1, 1], dtype=int32)"
      ]
     },
     "execution_count": 14,
     "metadata": {},
     "output_type": "execute_result"
    }
   ],
   "source": [
    "np.allclose(sigmax[0],np.kron(np.array([[0,1],[1,0]]),np.eye(2) ) )\n",
    "np.allclose(sigmaz[0],np.kron(np.array([[1,0],[0,-1]]),np.eye(2) ) )\n",
    "np.allclose(sigmax[1],np.kron(np.eye(2),np.array([[0,1],[1,0]]) ))\n",
    "np.allclose(sigmaz[1],np.kron(np.eye(2),np.array([[1,0],[0,-1]]) ) )\n",
    "bindigits(7,3)"
   ]
  },
  {
   "cell_type": "code",
   "execution_count": 8,
   "metadata": {},
   "outputs": [
    {
     "data": {
      "text/plain": [
       "array([[0, 1, 0, 0],\n",
       "       [1, 0, 0, 0],\n",
       "       [0, 0, 0, 1],\n",
       "       [0, 0, 1, 0]])"
      ]
     },
     "execution_count": 8,
     "metadata": {},
     "output_type": "execute_result"
    }
   ],
   "source": [
    "##### Test1\n",
    "sig_z=np.array([[1,0],[0,-1]])\n",
    "iden=np.array([[1,0],[0,1]])\n",
    "sig_x=np.array([[0,1],[1,0]])\n",
    "\n",
    "zero_1qubit_state=np.array([[1],[0]])\n",
    "one_1qubit_state=np.array([[0],[1]])\n",
    "\n",
    "zero_2Q=np.tensordot(zero_1qubit_state,zero_1qubit_state,axes=0).reshape((4,1))\n",
    "one_2Q=np.tensordot(zero_1qubit_state,one_1qubit_state,axes=0).reshape((4,1))\n",
    "two_2Q=np.tensordot(one_1qubit_state,zero_1qubit_state,axes=0).reshape((4,1))\n",
    "three_2Q=np.tensordot(one_1qubit_state,one_1qubit_state,axes=0).reshape((4,1))\n",
    "\n",
    "np.kron(iden,sig_x)"
   ]
  },
  {
   "cell_type": "code",
   "execution_count": null,
   "metadata": {},
   "outputs": [],
   "source": [
    "max(np.abs((np.reshape(np.matmul(sigmax[3],sigmax[3])-ident,mmax*mmax))))"
   ]
  },
  {
   "cell_type": "code",
   "execution_count": null,
   "metadata": {},
   "outputs": [],
   "source": [
    "max(np.abs(np.reshape(np.matmul(sigmax[3],sigmaz[3])+np.matmul(sigmaz[3],sigmax[3]),mmax*mmax)))"
   ]
  },
  {
   "cell_type": "code",
   "execution_count": null,
   "metadata": {},
   "outputs": [],
   "source": [
    "max(np.abs(np.reshape(np.matmul(sigmax[3],sigmaz[2])-np.matmul(sigmaz[2],sigmax[3]),mmax*mmax)))"
   ]
  },
  {
   "cell_type": "code",
   "execution_count": 17,
   "metadata": {},
   "outputs": [],
   "source": [
    "#making the general hamiltonian    \n",
    "def ham(lamb1,lamb2,bc):\n",
    "    #lamb1=0.1 nearest neighbor\n",
    "    #lamb2=1.0  #onsite\n",
    "    #bc==1: PBC\n",
    "    #initializing the energy matrix to 0\n",
    "    hammatr=np.zeros((mmax,mmax))\n",
    "    for nn in range(nq-1):\n",
    "        hammatr+=-lamb2*sigmaz[nn]-lamb1*np.matmul(sigmax[nn],sigmax[nn+1])\n",
    "        pass\n",
    "    hammatr+=-lamb2*sigmaz[nq-1]\n",
    "    if bc==1:\n",
    "        hammatr+=-lamb1*np.matmul(sigmax[nq-1],sigmax[0]) \n",
    "    return hammatr "
   ]
  },
  {
   "cell_type": "code",
   "execution_count": null,
   "metadata": {},
   "outputs": [],
   "source": [
    "def four_fermi_Hamiltonian(G,nq):\n",
    "    dim=2**nq\n",
    "    dim2=4**nq\n",
    "    \n",
    "    H1=np.zeros((dim,dim)).astype(np.complex_)\n",
    "    H2=np.zeros((dim,dim)).astype(np.complex_)\n",
    "    H3=np.zeros((dim2,dim2)).astype(np.complex_)\n",
    "    \n",
    "    for i in range(nq-1):\n",
    "        H1 += (sigma_creator(nq,i,0) @ sigma_creator(nq,i+1,0))\n",
    "        H2 += (sigma_creator(nq,i,1) @ sigma_creator(nq,i+1,1))\n",
    "        H3 += 0.25*G**2 *np.kron ((np.identity(dim)+ sigma_creator(nq,i,2)), (np.identity(dim)+sigma_creator(nq,i,2)) )  \n",
    "    \n",
    "    #print(np.shape(H1))\n",
    "    #print(np.shape(H2))\n",
    "    #print(np.shape(H3))\n",
    "    H=np.kron(H1,H1)+np.kron(H2,H2)+H3\n",
    "    return H\n",
    "\n",
    "#four_fermi_Hamiltonian(0.1,4)\n",
    "\n",
    "# eigen value\n",
    "G=0.1\n",
    "nq=4\n",
    "mmax=4**nq\n",
    "four_fermi_eigenvalues, four_fermi_eigenvectors=LA.eigh(four_fermi_Hamiltonian(G,nq))\n",
    "four_fermi_eigenvalues\n",
    "\n",
    "plt.plot(four_fermi_eigenvalues,'x')"
   ]
  },
  {
   "cell_type": "code",
   "execution_count": 24,
   "metadata": {},
   "outputs": [
    {
     "data": {
      "text/plain": [
       "array([[0., 0., 0., 0., 0., 0., 0., 0., 0., 0., 0., 0., 0., 0., 0., 0.],\n",
       "       [0., 1., 0., 0., 0., 0., 0., 0., 0., 0., 0., 0., 0., 0., 0., 0.],\n",
       "       [0., 0., 0., 0., 0., 0., 0., 0., 0., 0., 0., 0., 0., 0., 0., 0.],\n",
       "       [0., 0., 0., 1., 0., 0., 0., 0., 0., 0., 0., 0., 0., 0., 0., 0.],\n",
       "       [0., 0., 0., 0., 0., 0., 0., 0., 0., 0., 0., 0., 0., 0., 0., 0.],\n",
       "       [0., 0., 0., 0., 0., 1., 0., 0., 0., 0., 0., 0., 0., 0., 0., 0.],\n",
       "       [0., 0., 0., 0., 0., 0., 0., 0., 0., 0., 0., 0., 0., 0., 0., 0.],\n",
       "       [0., 0., 0., 0., 0., 0., 0., 1., 0., 0., 0., 0., 0., 0., 0., 0.],\n",
       "       [0., 0., 0., 0., 0., 0., 0., 0., 0., 0., 0., 0., 0., 0., 0., 0.],\n",
       "       [0., 0., 0., 0., 0., 0., 0., 0., 0., 1., 0., 0., 0., 0., 0., 0.],\n",
       "       [0., 0., 0., 0., 0., 0., 0., 0., 0., 0., 0., 0., 0., 0., 0., 0.],\n",
       "       [0., 0., 0., 0., 0., 0., 0., 0., 0., 0., 0., 1., 0., 0., 0., 0.],\n",
       "       [0., 0., 0., 0., 0., 0., 0., 0., 0., 0., 0., 0., 0., 0., 0., 0.],\n",
       "       [0., 0., 0., 0., 0., 0., 0., 0., 0., 0., 0., 0., 0., 1., 0., 0.],\n",
       "       [0., 0., 0., 0., 0., 0., 0., 0., 0., 0., 0., 0., 0., 0., 0., 0.],\n",
       "       [0., 0., 0., 0., 0., 0., 0., 0., 0., 0., 0., 0., 0., 0., 0., 1.]])"
      ]
     },
     "execution_count": 24,
     "metadata": {},
     "output_type": "execute_result"
    },
    {
     "data": {
      "text/plain": [
       "array([[0., 0., 0., 0., 0., 0., 0., 0., 0., 0., 0., 0., 0., 0., 0., 0.],\n",
       "       [0., 1., 0., 0., 0., 0., 0., 0., 0., 0., 0., 0., 0., 0., 0., 0.],\n",
       "       [0., 0., 1., 0., 0., 0., 0., 0., 0., 0., 0., 0., 0., 0., 0., 0.],\n",
       "       [0., 0., 0., 2., 0., 0., 0., 0., 0., 0., 0., 0., 0., 0., 0., 0.],\n",
       "       [0., 0., 0., 0., 1., 0., 0., 0., 0., 0., 0., 0., 0., 0., 0., 0.],\n",
       "       [0., 0., 0., 0., 0., 2., 0., 0., 0., 0., 0., 0., 0., 0., 0., 0.],\n",
       "       [0., 0., 0., 0., 0., 0., 2., 0., 0., 0., 0., 0., 0., 0., 0., 0.],\n",
       "       [0., 0., 0., 0., 0., 0., 0., 3., 0., 0., 0., 0., 0., 0., 0., 0.],\n",
       "       [0., 0., 0., 0., 0., 0., 0., 0., 1., 0., 0., 0., 0., 0., 0., 0.],\n",
       "       [0., 0., 0., 0., 0., 0., 0., 0., 0., 2., 0., 0., 0., 0., 0., 0.],\n",
       "       [0., 0., 0., 0., 0., 0., 0., 0., 0., 0., 2., 0., 0., 0., 0., 0.],\n",
       "       [0., 0., 0., 0., 0., 0., 0., 0., 0., 0., 0., 3., 0., 0., 0., 0.],\n",
       "       [0., 0., 0., 0., 0., 0., 0., 0., 0., 0., 0., 0., 2., 0., 0., 0.],\n",
       "       [0., 0., 0., 0., 0., 0., 0., 0., 0., 0., 0., 0., 0., 3., 0., 0.],\n",
       "       [0., 0., 0., 0., 0., 0., 0., 0., 0., 0., 0., 0., 0., 0., 3., 0.],\n",
       "       [0., 0., 0., 0., 0., 0., 0., 0., 0., 0., 0., 0., 0., 0., 0., 4.]])"
      ]
     },
     "execution_count": 24,
     "metadata": {},
     "output_type": "execute_result"
    }
   ],
   "source": [
    "#site occupations\n",
    "nnocc=np.zeros((nq,mmax,mmax))\n",
    "for nn in range(nq):\n",
    "    nnocc[nn]=0.5*(ident-sigmaz[nn])\n",
    "    pass\n",
    "totalnn=(nnocc[0]+nnocc[1]+nnocc[2]+nnocc[3])    \n",
    "nnocc[3]\n",
    "totalnn"
   ]
  },
  {
   "cell_type": "code",
   "execution_count": null,
   "metadata": {},
   "outputs": [],
   "source": [
    "np.matmul(nnocc[1],nnocc[2])"
   ]
  },
  {
   "cell_type": "code",
   "execution_count": null,
   "metadata": {},
   "outputs": [],
   "source": [
    "#ei=LA.eigh(ham(0.02,1.0,0))\n",
    "ei=LA.eigh(ham(G,nq) )\n",
    "ei\n",
    "mmax=4**nq\n",
    "#evolution with correct complex conjugation    \n",
    "def evol(tt):\n",
    "    proj=np.zeros((mmax,mmax))+0.0+0.0j\n",
    "    for uu in range(mmax):\n",
    "        proj+=np.exp(-tt*1.0j*ei[0][uu])*np.outer(ei[1][:,uu],np.conjugate(ei[1][:,uu]))\n",
    "        pass\n",
    "    return proj\n",
    "instate=np.zeros(mmax)+0.0j \n",
    "#|1000> state\n",
    "instate[7]=1.0\n",
    "# number of time steps\n",
    "nstep=4000\n",
    "#time step\n",
    "delt=0.001\n",
    "times1=np.zeros(nstep)\n",
    "meas0=np.zeros(nstep)+0.0j  \n",
    "meas1=np.zeros(nstep)+0.0j  \n",
    "#going through all the time steps\n",
    "for nst in range(nstep):\n",
    "    #time\n",
    "    tt=nst*delt\n",
    "    times1[nst]=tt\n",
    "    #evolution at time tt on instate\n",
    "    wavet=np.dot(evol(tt),instate)\n",
    "    #hermitian conjugate\n",
    "    instatecc=np.conj(np.transpose(instate))\n",
    "    \n",
    "   # projstate0=np.dot(nnocc[0],wavet)\n",
    "   # projstate1=np.dot(nnocc[1],wavet)\n",
    "    meas0[nst]=(np.abs(np.inner(instatecc,wavet)))**2\n",
    "    #meas1[nst]=np.inner(instatecc,projstate1)\n",
    "plt.plot(times1,np.real(meas0),'.',ls='none')    \n",
    "#plt.plot(times1,np.real(meas1))\n",
    "plt.show()\n",
    "\n"
   ]
  },
  {
   "cell_type": "code",
   "execution_count": null,
   "metadata": {},
   "outputs": [],
   "source": [
    "#Trotter version\n",
    "\n",
    "\n",
    "ei1=LA.eigh(ham(0.02,0.0,0))\n",
    "#evolution with correct complex conjugation    \n",
    "def evol1(tt):\n",
    "    proj=np.zeros((mmax,mmax))+0.0+0.0j\n",
    "    for uu in range(mmax):\n",
    "        proj+=np.exp(-tt*1.0j*ei1[0][uu])*np.outer(ei1[1][:,uu],np.conjugate(ei1[1][:,uu]))\n",
    "        pass\n",
    "    return proj\n",
    "\n",
    "print(ei1[0][0:mmax])#energy eigenvalues\n",
    "\n",
    "ei2=LA.eigh(ham(0.0,1.0,0))\n",
    "#evolution with correct complex conjugation    \n",
    "def evol2(tt):\n",
    "    proj=np.zeros((mmax,mmax))+0.0+0.0j\n",
    "    for uu in range(mmax):\n",
    "        proj+=np.exp(-tt*1.0j*ei2[0][uu])*np.outer(ei2[1][:,uu],np.conjugate(ei2[1][:,uu]))\n",
    "        pass\n",
    "    return proj\n",
    "print(ei2[0][0:mmax])#energy eigenvalues"
   ]
  },
  {
   "cell_type": "code",
   "execution_count": null,
   "metadata": {},
   "outputs": [],
   "source": [
    "#Trotter version\n",
    "deltat=10\n",
    "# number of time steps\n",
    "nstep2=25\n",
    "\n",
    "ei1=LA.eigh(ham(0.02,0.0,0))\n",
    "#evolution with INcorrect complex conjugation    \n",
    "def evol1(tt):\n",
    "    proj=np.zeros((mmax,mmax))+0.0+0.0j\n",
    "    for uu in range(mmax):\n",
    "        proj+=np.exp(-tt*1.0j*ei1[0][uu])*np.outer(np.conjugate(ei1[1][:,uu]),ei1[1][:,uu])\n",
    "        pass\n",
    "    return proj\n",
    "ei2=LA.eigh(ham(0.0,1.0,0))\n",
    "#evolution with INcorrect complex conjugation    \n",
    "def evol2(tt):\n",
    "    proj=np.zeros((mmax,mmax))+0.0+0.0j\n",
    "    for uu in range(mmax):\n",
    "        proj+=np.exp(-tt*1.0j*ei2[0][uu])*np.outer(np.conjugate(ei2[1][:,uu]),ei2[1][:,uu])\n",
    "        pass\n",
    "    return proj\n",
    "trotstep=np.matmul(evol1(deltat),evol2(deltat))\n",
    "times2=np.zeros(nstep2)\n",
    "meas2=np.zeros(nstep2)+0.0j  \n",
    "#going through all the Trotter steps\n",
    "wavet=instate\n",
    "for nst in range(nstep2):\n",
    "    #time\n",
    "    tt=nst*deltat\n",
    "    times2[nst]=tt\n",
    "    instatecc=np.conj(np.transpose(wavet))\n",
    "    projstate=np.dot(nnocc[0],wavet)\n",
    "    meas2[nst]=np.inner(instatecc,projstate)\n",
    "    \n",
    "    #evolution at time tt on instate\n",
    "    wavet=np.dot(trotstep,wavet)\n",
    "\n",
    "#plt.figure(figsize=(2.5,3))\n",
    "plt.plot(times1,np.real(meas0))\n",
    "plt.plot(times2,np.real(meas2))\n",
    "#plt.plot(times2,np.real(meas2-meas1))\n",
    "#plt.savefig(\"temp3.pdf\")\n",
    "plt.show()"
   ]
  },
  {
   "cell_type": "code",
   "execution_count": null,
   "metadata": {},
   "outputs": [],
   "source": []
  }
 ],
 "metadata": {
  "kernelspec": {
   "display_name": "Python 3",
   "language": "python",
   "name": "python3"
  },
  "language_info": {
   "codemirror_mode": {
    "name": "ipython",
    "version": 3
   },
   "file_extension": ".py",
   "mimetype": "text/x-python",
   "name": "python",
   "nbconvert_exporter": "python",
   "pygments_lexer": "ipython3",
   "version": "3.9.7"
  }
 },
 "nbformat": 4,
 "nbformat_minor": 4
}
